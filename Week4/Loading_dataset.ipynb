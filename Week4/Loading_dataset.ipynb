{
 "cells": [
  {
   "cell_type": "code",
   "execution_count": 1,
   "id": "3293f07e",
   "metadata": {},
   "outputs": [],
   "source": [
    "#Referred to the COCO API Github repo\n",
    "#importing the libraries\n",
    "from pycocotools.coco import COCO\n",
    "import os\n",
    "import time\n",
    "import random\n",
    "import requests \n",
    "import matplotlib.pyplot as plt\n",
    "import numpy as np\n",
    "import skimage.io as io\n",
    "from PIL import Image"
   ]
  },
  {
   "cell_type": "code",
   "execution_count": 2,
   "id": "b76ec384",
   "metadata": {},
   "outputs": [
    {
     "name": "stdout",
     "output_type": "stream",
     "text": [
      "loading annotations into memory...\n",
      "Done (t=10.44s)\n",
      "creating index...\n",
      "index created!\n"
     ]
    }
   ],
   "source": [
    "coco=COCO(\"annotations_trainval2014/annotations/instances_train2014.json\")"
   ]
  },
  {
   "cell_type": "code",
   "execution_count": 3,
   "id": "103d9413",
   "metadata": {},
   "outputs": [],
   "source": [
    "#Function to download the dataset\n",
    "def download_dataset(categories):\n",
    "    for category in categories:\n",
    "        print(category)\n",
    "        catIds = coco.getCatIds(catNms=[category]) #Getting the id of the particular id\n",
    "        imgIds = coco.getImgIds(catIds=catIds ) #Getting all the ids of the images of the category\n",
    "        img_idxs = random.sample(imgIds, 2200) #getting the image indices of 2000 images\n",
    "        total_images = 0\n",
    "        for i in range(len(img_idxs)):\n",
    "            if total_images == 2000:\n",
    "                break\n",
    "            img_url = coco.loadImgs(img_idxs[i])[0] #url of the image\n",
    "            img = io.imread(img_url['coco_url'])   #The actual image\n",
    "            im = Image.fromarray(img) #Converting it to PIL object\n",
    "            if im is None: #To make sure that no NoneType objects are in the dataset\n",
    "                continue\n",
    "            im1 = im.resize((64,64))  #Resizing it\n",
    "            if total_images==0: #Creating the directories\n",
    "                train = os.path.join(\"Dataset\",\"train\",category)\n",
    "                test = os.path.join(\"Dataset\", \"test\",category)\n",
    "                os.makedirs(train)\n",
    "                os.makedirs(test)\n",
    "            if total_images<1500: #Saving first 1500 images to the training dataset\n",
    "                im1.save(os.path.join(train,str(i)+\".jpeg\"))\n",
    "            elif total_images>=1500: #Saving next 500 images to the testing dataset\n",
    "                im1.save(os.path.join(test,str(i)+\".jpeg\"))\n",
    "            total_images = total_images +1\n",
    "        print(i)\n"
   ]
  },
  {
   "cell_type": "code",
   "execution_count": 4,
   "id": "729b7c9f",
   "metadata": {},
   "outputs": [
    {
     "name": "stdout",
     "output_type": "stream",
     "text": [
      "airplane\n",
      "2000\n",
      "bus\n",
      "2000\n",
      "cat\n",
      "2000\n",
      "dog\n",
      "2000\n",
      "pizza\n",
      "2000\n"
     ]
    }
   ],
   "source": [
    "categories = ['airplane', 'bus', 'cat', 'dog', 'pizza']\n",
    "download_dataset(categories)"
   ]
  },
  {
   "cell_type": "code",
   "execution_count": null,
   "id": "a361dbcf",
   "metadata": {},
   "outputs": [],
   "source": []
  }
 ],
 "metadata": {
  "kernelspec": {
   "display_name": "Python 3 (ipykernel)",
   "language": "python",
   "name": "python3"
  },
  "language_info": {
   "codemirror_mode": {
    "name": "ipython",
    "version": 3
   },
   "file_extension": ".py",
   "mimetype": "text/x-python",
   "name": "python",
   "nbconvert_exporter": "python",
   "pygments_lexer": "ipython3",
   "version": "3.8.13"
  }
 },
 "nbformat": 4,
 "nbformat_minor": 5
}
