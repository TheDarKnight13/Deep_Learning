{
 "cells": [
  {
   "cell_type": "code",
   "execution_count": 1,
   "metadata": {
    "id": "c5FUN2f6_ZaW"
   },
   "outputs": [],
   "source": [
    "#Importing the libraries\n",
    "import torch\n",
    "import torch.nn as nn\n",
    "import os\n",
    "import sys\n",
    "import pickle\n",
    "import random\n",
    "import numpy as np\n",
    "import gzip\n",
    "import gensim.downloader as gen_api\n",
    "from gensim.models import KeyedVectors \n",
    "import matplotlib.pyplot as plt\n",
    "import seaborn as sn\n",
    "import pandas as pd\n",
    "from tqdm import tqdm"
   ]
  },
  {
   "cell_type": "code",
   "execution_count": 2,
   "metadata": {
    "id": "7C4FwxRk_ctH"
   },
   "outputs": [],
   "source": [
    "#Dataset definition from DL Studio\n",
    "class SentimentAnalysisDataset(torch.utils.data.Dataset):\n",
    "    def __init__(self, dataset_file, path_to_saved_embeddings):\n",
    "        super(SentimentAnalysisDataset, self).__init__()\n",
    "               \n",
    "        f = gzip.open(dataset_file, 'rb') #Opening the compressed dataset file \n",
    "        dataset = f.read() #dataset contains the binary objects of the file\n",
    "        self.word_vectors = KeyedVectors.load(path_to_saved_embeddings + 'vectors.kv') #Loading the embeddings for the words as a hashmap\n",
    "        \n",
    "        #Converting the binary string to Python objects\n",
    "        self.positive_reviews, self.negative_reviews, self.vocab = pickle.loads(dataset, encoding='latin1')\n",
    "        #1. Vocab is a list of all the unique words in the dataset\n",
    "        #2. positive_reviews and negative_reviews is a hashmap consisting of 25 keys corresponding to 25 \n",
    "        # different categories. The value corresponding to the category key consists of reviews which are 2D strings with \n",
    "        # each row corresponding to a specific review and the column of that row corresponding to a word\n",
    "        \n",
    "        #Storing each review along with its category and sentiment in a list\n",
    "        self.indexed_dataset = []\n",
    "        for category in self.positive_reviews:             #Iterating through all the categories\n",
    "            for review in self.positive_reviews[category]: #Iterating through all the reviews in each category\n",
    "                self.indexed_dataset.append([review, category, 1]) #1 indicates positive sentiment\n",
    "        for category in self.negative_reviews:             #Iterating through all the categories\n",
    "            for review in self.negative_reviews[category]: #Iterating through all the reviews in each category\n",
    "                self.indexed_dataset.append([review, category, 0]) #0 indicates negative sentiment\n",
    "\n",
    "    def review_to_tensor(self, review):\n",
    "        #Converts each word of the review into its embedding of shape 300        \n",
    "        list_of_embeddings = []\n",
    "        for word in review: #Iterating through each word in the review\n",
    "            if word in self.word_vectors.key_to_index: #Checking if the embedding for the word exists\n",
    "                embedding = self.word_vectors[word]\n",
    "                list_of_embeddings.append(np.array(embedding)) #Appending its embedding to the embedding of all the other words\n",
    "            else:\n",
    "                next\n",
    "        #Converting the list to a tensor\n",
    "        review_array = np.array(list_of_embeddings)\n",
    "        review_tensor = torch.from_numpy(review_array) \n",
    "        return review_tensor #Its of shape (num_words x 300)\n",
    "\n",
    "    def __len__(self):\n",
    "        #Returns the length of the dataset\n",
    "        return len(self.indexed_dataset)\n",
    "\n",
    "    def __getitem__(self, idx):\n",
    "        #Extracts an individual review along with its category and sentiment\n",
    "        sample = self.indexed_dataset[idx]\n",
    "        review = sample[0]\n",
    "        review_category = sample[1]\n",
    "        review_sentiment = sample[2]      \n",
    "        \n",
    "        #Converts the review words to its embeddings for each word of the review\n",
    "        review_tensor = self.review_to_tensor(review)        \n",
    "        \n",
    "        #Wrapping up the review, category and sentiment in a hashmap\n",
    "        sample = {'review'       : review_tensor, \n",
    "                  'sentiment'    : review_sentiment }\n",
    "        return sample\n",
    "\n"
   ]
  },
  {
   "cell_type": "code",
   "execution_count": 3,
   "metadata": {
    "id": "7eBGkTX36uM0"
   },
   "outputs": [],
   "source": [
    "#This is my implementation of the GRU\n",
    "class mGRU(nn.Module):\n",
    "    def __init__(self, input_size, hidden_size,output_size,batch_size):\n",
    "        super().__init__()\n",
    "        self.Linear1 = nn.Linear(input_size + hidden_size, hidden_size)\n",
    "        self.sigmoid = nn.Sigmoid()\n",
    "        self.Linear2 = nn.Linear(input_size + hidden_size, hidden_size)\n",
    "        self.tanh =  nn.Tanh()      \n",
    "\n",
    "    def forward(self, x, h):\n",
    "        combined1 = torch.cat((x, h), 2)\n",
    "        forget = self.sigmoid(self.Linear1(combined1))  \n",
    "        interim_h =  forget*h\n",
    "        combined2  = torch.cat((x, interim_h), 2)\n",
    "        interim_o =  self.tanh(self.Linear2(combined2))\n",
    "        output = (1 - forget)*h  +  forget*interim_o\n",
    "        return output, output"
   ]
  },
  {
   "cell_type": "code",
   "execution_count": 4,
   "metadata": {
    "id": "Arn41-ed4mVA"
   },
   "outputs": [],
   "source": [
    "#Model architecture from DLStudio\n",
    "class GRUnet(nn.Module):\n",
    "    def __init__(self, input_size, hidden_size, output_size, num_layers):\n",
    "        super().__init__()\n",
    "        self.hidden_size = hidden_size\n",
    "        self.num_layers = num_layers\n",
    "        self.gru =  mGRU(input_size,hidden_size,output_size,1) #Using mGRU\n",
    "        self.fc = nn.Linear(hidden_size, output_size)\n",
    "        self.relu = nn.ReLU()\n",
    "        self.logsoftmax = nn.LogSoftmax(dim=1)\n",
    "\n",
    "    def forward(self, x, h):\n",
    "        out, h_new = self.gru(x, h)\n",
    "        fout = self.fc(self.relu(out[:,-1]))\n",
    "        fout = self.logsoftmax(fout)\n",
    "        return fout, h_new\n",
    "\n",
    "    def init_hidden(self):\n",
    "        #Creates the first hidden input which is all zeros\n",
    "        weight = next(self.parameters()).data\n",
    "        hidden = weight.new(self.num_layers,1,self.hidden_size).zero_()\n",
    "        return hidden"
   ]
  },
  {
   "cell_type": "code",
   "execution_count": 5,
   "metadata": {
    "id": "mWYAXnDz-Hpj"
   },
   "outputs": [],
   "source": [
    "def testing(net,device,test_dataloader):\n",
    "  test_corr = 0\n",
    "  net.eval()\n",
    "  with torch.no_grad():\n",
    "    loop = tqdm(test_dataloader)\n",
    "    for i,data in enumerate(loop):\n",
    "       review_tensor,sentiment = data['review'], data['sentiment']\n",
    "       review_tensor = review_tensor.to(device)\n",
    "       sentiment = sentiment.to(device)\n",
    "       #Initializing the hidden to 0\n",
    "       hidden = net.init_hidden().to(device)\n",
    "      \n",
    "       #Iterating through all the words in the sentence\n",
    "       for k in range(review_tensor.shape[1]):\n",
    "          #Passing word by word through the model\n",
    "          output, hidden = net(torch.unsqueeze(torch.unsqueeze(review_tensor[0,k],0),0), hidden) #Passing word by word through the model  \n",
    "\n",
    "       predicted = torch.max(output.data, 1)[1] \n",
    "       test_corr += (predicted == sentiment).item()\n",
    "\n",
    "  return (test_corr*100)/len(test_dataloader.dataset)         "
   ]
  },
  {
   "cell_type": "code",
   "execution_count": 6,
   "metadata": {
    "id": "tl1maKx44nQd"
   },
   "outputs": [],
   "source": [
    "#From DLStudio\n",
    "def training(net, criterion, optimizer, epochs, train_dataloader, test_dataloader, device): \n",
    "    training_loss = [] #Keeping track of the loss across epochs\n",
    "    test_accs = [] #Keeping track of test accuracies across epochs\n",
    "   \n",
    "    #Iterating through the epochs\n",
    "    for epoch in range(epochs):  \n",
    "        running_loss = 0.0\n",
    "        loop = tqdm(train_dataloader)\n",
    "        #Iterating through the dataloader\n",
    "        for i, data in enumerate(loop):\n",
    "            #Extracting the review and sentiment\n",
    "            review_tensor,sentiment = data['review'], data['sentiment']\n",
    "            review_tensor = review_tensor.to(device)\n",
    "            sentiment = sentiment.to(device)\n",
    "            optimizer.zero_grad()\n",
    "            \n",
    "            #Initializing the hidden to 0\n",
    "            hidden = net.init_hidden().to(device)\n",
    "            \n",
    "            #Iterating through all the words in the sentence\n",
    "            for k in range(review_tensor.shape[1]):\n",
    "                #Passing word by word through the model\n",
    "                output, hidden = net(torch.unsqueeze(torch.unsqueeze(review_tensor[0,k],0),0), hidden) #Passing word by word through the model                \n",
    "                #input is of shape (1,1,300)\n",
    "                #hidden is of shape (1,1,100)\n",
    "            #Computing loss\n",
    "            loss = criterion(output,sentiment)\n",
    "            running_loss += loss.item()\n",
    "            loop.set_postfix(loss=loss.item()) \n",
    "            loss.backward()\n",
    "            optimizer.step()\n",
    "            \n",
    "        training_loss.append((running_loss)/(i+1))\n",
    "        test_acc = testing(net,device,test_dataloader)\n",
    "        test_accs.append(test_acc)\n",
    "        net.train()\n",
    "        print(\"[epoch: %d, batch: %5d] Loss: %.3f Test Accuracy: %.3f \" % (epoch + 1, i + 1, (running_loss)/(i+1),test_acc))\n",
    "        \n",
    "        \n",
    "    return net, training_loss, test_accs"
   ]
  },
  {
   "cell_type": "code",
   "execution_count": 7,
   "metadata": {
    "id": "GlbrsIyq6PHr"
   },
   "outputs": [],
   "source": [
    "#Function to compute the confusion matrix\n",
    "def confusion_matrix(model,test_data_loader,device):\n",
    "  matrix = torch.zeros((2,2))\n",
    "  model.eval()\n",
    "  with torch.no_grad():\n",
    "    for i,data in enumerate(test_dataloader):\n",
    "       review_tensor,sentiment = data['review'], data['sentiment']\n",
    "       review_tensor = review_tensor.to(device)\n",
    "       sentiment = sentiment.to(device)\n",
    "       #Initializing the hidden to 0\n",
    "       hidden = model.init_hidden().to(device)\n",
    "      \n",
    "       #Iterating through all the words in the sentence\n",
    "       for k in range(review_tensor.shape[1]):\n",
    "          #Passing word by word through the model\n",
    "          output, hidden = model(torch.unsqueeze(torch.unsqueeze(review_tensor[0,k],0),0), hidden) #Passing word by word through the model  \n",
    "\n",
    "       predicted = torch.max(output.data, 1)[1] \n",
    "       matrix[predicted.cpu(),sentiment.cpu()] += 1\n",
    "\n",
    "  heat = pd.DataFrame(matrix, index = [i for i in [\"Negative\",\"Positive\"]],\n",
    "                  columns = [i for i in [\"Negative\",\"Positive\"]])\n",
    "  heat = heat.astype(int)\n",
    "  accuracy = (matrix.trace()/matrix.sum())*100\n",
    "  plt.figure(figsize = (10,7))\n",
    "  plt.title(\"Total accuracy is \"+str(accuracy.item()))\n",
    "  s = sn.heatmap(heat, annot=True,cmap='Blues',fmt='g')\n",
    "  s.set(xlabel='Ground Truth', ylabel='Predicted')\n",
    "  "
   ]
  },
  {
   "cell_type": "code",
   "execution_count": 8,
   "metadata": {
    "colab": {
     "base_uri": "https://localhost:8080/"
    },
    "id": "0KHagN5L5ux2",
    "outputId": "52b946b9-7676-49b8-86f3-a12764c4501f"
   },
   "outputs": [
    {
     "data": {
      "text/plain": [
       "device(type='cuda')"
      ]
     },
     "execution_count": 8,
     "metadata": {},
     "output_type": "execute_result"
    }
   ],
   "source": [
    "device = torch.device(\"cuda\" if torch.cuda.is_available() else \"cpu\")\n",
    "device"
   ]
  },
  {
   "cell_type": "code",
   "execution_count": 9,
   "metadata": {
    "id": "q_fJaxj74p_b"
   },
   "outputs": [],
   "source": [
    "model = GRUnet(input_size=300,hidden_size=100,output_size=2,num_layers=1).to(device)\n",
    "criterion = nn.NLLLoss()\n",
    "optimizer = torch.optim.Adam(model.parameters(), lr=0.001,betas=(0.9,0.99))\n",
    "epochs = 6\n"
   ]
  },
  {
   "cell_type": "code",
   "execution_count": 10,
   "metadata": {
    "colab": {
     "base_uri": "https://localhost:8080/"
    },
    "id": "JDHkq22DR53E",
    "outputId": "34e06db1-3b6a-45bb-c279-aa926f7f85fb"
   },
   "outputs": [
    {
     "name": "stdout",
     "output_type": "stream",
     "text": [
      "The size of the training dataset is 14227\n",
      "The size of the test dataset is 3563\n"
     ]
    }
   ],
   "source": [
    "train_dataset = SentimentAnalysisDataset(dataset_file =\"/content/drive/MyDrive/DL_HW8/sentiment_dataset_train_400.tar.gz\",path_to_saved_embeddings=\"/content/drive/MyDrive/DL_HW8/\") \n",
    "train_dataloader = torch.utils.data.DataLoader(train_dataset,batch_size=1,shuffle=True, num_workers=2)\n",
    "\n",
    "test_dataset = SentimentAnalysisDataset(dataset_file =\"/content/drive/MyDrive/DL_HW8/sentiment_dataset_test_400.tar.gz\",path_to_saved_embeddings=\"/content/drive/MyDrive/DL_HW8/\") \n",
    "test_dataloader = torch.utils.data.DataLoader(test_dataset,batch_size=1,shuffle=True, num_workers=2)\n",
    "\n",
    "print(\"The size of the training dataset is \"+ str(len(train_dataset)))\n",
    "print(\"The size of the test dataset is \"+ str(len(test_dataset)))"
   ]
  },
  {
   "cell_type": "code",
   "execution_count": 11,
   "metadata": {
    "colab": {
     "base_uri": "https://localhost:8080/"
    },
    "id": "4Vti4d1M3bX3",
    "outputId": "60238d0e-5cad-4a8e-f692-2f81c354fd1b"
   },
   "outputs": [
    {
     "name": "stderr",
     "output_type": "stream",
     "text": [
      "100%|██████████| 14227/14227 [18:52<00:00, 12.56it/s, loss=0.0795]\n",
      "100%|██████████| 3563/3563 [02:00<00:00, 29.49it/s]\n"
     ]
    },
    {
     "name": "stdout",
     "output_type": "stream",
     "text": [
      "[epoch: 1, batch: 14227] Loss: 0.461 Test Accuracy: 85.490 \n"
     ]
    },
    {
     "name": "stderr",
     "output_type": "stream",
     "text": [
      "100%|██████████| 14227/14227 [18:47<00:00, 12.62it/s, loss=7.73]\n",
      "100%|██████████| 3563/3563 [01:59<00:00, 29.83it/s]\n"
     ]
    },
    {
     "name": "stdout",
     "output_type": "stream",
     "text": [
      "[epoch: 2, batch: 14227] Loss: 0.313 Test Accuracy: 87.005 \n"
     ]
    },
    {
     "name": "stderr",
     "output_type": "stream",
     "text": [
      "100%|██████████| 14227/14227 [18:44<00:00, 12.65it/s, loss=2.14]\n",
      "100%|██████████| 3563/3563 [01:59<00:00, 29.82it/s]\n"
     ]
    },
    {
     "name": "stdout",
     "output_type": "stream",
     "text": [
      "[epoch: 3, batch: 14227] Loss: 0.246 Test Accuracy: 86.612 \n"
     ]
    },
    {
     "name": "stderr",
     "output_type": "stream",
     "text": [
      "100%|██████████| 14227/14227 [18:21<00:00, 12.91it/s, loss=0.00265]\n",
      "100%|██████████| 3563/3563 [01:58<00:00, 30.11it/s]\n"
     ]
    },
    {
     "name": "stdout",
     "output_type": "stream",
     "text": [
      "[epoch: 4, batch: 14227] Loss: 0.180 Test Accuracy: 87.791 \n"
     ]
    },
    {
     "name": "stderr",
     "output_type": "stream",
     "text": [
      "100%|██████████| 14227/14227 [19:15<00:00, 12.31it/s, loss=0.0183]\n",
      "100%|██████████| 3563/3563 [02:05<00:00, 28.45it/s]\n"
     ]
    },
    {
     "name": "stdout",
     "output_type": "stream",
     "text": [
      "[epoch: 5, batch: 14227] Loss: 0.121 Test Accuracy: 87.679 \n"
     ]
    },
    {
     "name": "stderr",
     "output_type": "stream",
     "text": [
      "100%|██████████| 14227/14227 [19:20<00:00, 12.26it/s, loss=0.1]\n",
      "100%|██████████| 3563/3563 [02:02<00:00, 29.07it/s]"
     ]
    },
    {
     "name": "stdout",
     "output_type": "stream",
     "text": [
      "[epoch: 6, batch: 14227] Loss: 0.072 Test Accuracy: 87.735 \n"
     ]
    },
    {
     "name": "stderr",
     "output_type": "stream",
     "text": [
      "\n"
     ]
    }
   ],
   "source": [
    "trained_model, training_loss, test_accs = training(model, criterion, optimizer, epochs, train_dataloader,test_dataloader, device)"
   ]
  },
  {
   "cell_type": "code",
   "execution_count": 12,
   "metadata": {
    "colab": {
     "base_uri": "https://localhost:8080/",
     "height": 511
    },
    "id": "4fMqCMnkDnLh",
    "outputId": "e880b6c1-2372-425e-f8a6-f6b817d5dacd"
   },
   "outputs": [
    {
     "data": {
      "image/png": "[encoded data removed]",
      "text/plain": [
       "<Figure size 1000x700 with 2 Axes>"
      ]
     },
     "metadata": {},
     "output_type": "display_data"
    }
   ],
   "source": [
    "confusion_matrix(trained_model,test_dataloader,device)"
   ]
  },
  {
   "cell_type": "code",
   "execution_count": 13,
   "metadata": {
    "colab": {
     "base_uri": "https://localhost:8080/",
     "height": 489
    },
    "id": "s5LdHy0GUKWC",
    "outputId": "b81005bb-8a8e-4ff5-ea75-d308d5db5d03"
   },
   "outputs": [
    {
     "data": {
      "text/plain": [
       "[<matplotlib.lines.Line2D at 0x7fed69b63d60>]"
      ]
     },
     "execution_count": 13,
     "metadata": {},
     "output_type": "execute_result"
    },
    {
     "data": {
      "image/png": "[encoded data removed]",
      "text/plain": [
       "<Figure size 640x480 with 1 Axes>"
      ]
     },
     "metadata": {},
     "output_type": "display_data"
    }
   ],
   "source": [
    "#Plotting the training loss vs epochs \n",
    "epochs = np.arange(1,7)\n",
    "plt.xticks(epochs, epochs)\n",
    "plt.xlabel(\"Epochs\")\n",
    "plt.ylabel(\"Loss\")\n",
    "plt.title(\"Loss vs epochs \")\n",
    "plt.plot(epochs,training_loss)\n"
   ]
  },
  {
   "cell_type": "code",
   "execution_count": 14,
   "metadata": {
    "colab": {
     "base_uri": "https://localhost:8080/",
     "height": 489
    },
    "id": "59vk7999UMJ6",
    "outputId": "706112a6-f5a5-403f-9ae1-7d3357c89460"
   },
   "outputs": [
    {
     "data": {
      "text/plain": [
       "[<matplotlib.lines.Line2D at 0x7fed69a9b820>]"
      ]
     },
     "execution_count": 14,
     "metadata": {},
     "output_type": "execute_result"
    },
    {
     "data": {
      "image/png": "[encoded data removed]",
      "text/plain": [
       "<Figure size 640x480 with 1 Axes>"
      ]
     },
     "metadata": {},
     "output_type": "display_data"
    }
   ],
   "source": [
    "#Plotting the test accuracy vs epochs \n",
    "epochs = np.arange(1,7)\n",
    "plt.xticks(epochs, epochs)\n",
    "plt.xlabel(\"Epochs\")\n",
    "plt.ylabel(\"Loss\")\n",
    "plt.title(\"Test Accuracy vs epochs \")\n",
    "plt.plot(epochs,test_accs)"
   ]
  },
  {
   "cell_type": "code",
   "execution_count": 15,
   "metadata": {
    "id": "c-9pV4HSUOKK"
   },
   "outputs": [],
   "source": [
    "def count_parameters(model):\n",
    "    return sum(p.numel() for p in model.parameters() if p.requires_grad)"
   ]
  },
  {
   "cell_type": "code",
   "execution_count": 16,
   "metadata": {
    "colab": {
     "base_uri": "https://localhost:8080/"
    },
    "id": "snXNndSkohVg",
    "outputId": "ffcd8d8f-70e2-4b45-cb0f-9a9fc98140cd"
   },
   "outputs": [
    {
     "data": {
      "text/plain": [
       "80402"
      ]
     },
     "execution_count": 16,
     "metadata": {},
     "output_type": "execute_result"
    }
   ],
   "source": [
    "#Number of parameters in the model\n",
    "count_parameters(trained_model)"
   ]
  }
 ],
 "metadata": {
  "accelerator": "GPU",
  "colab": {
   "provenance": []
  },
  "gpuClass": "standard",
  "kernelspec": {
   "display_name": "Python 3 (ipykernel)",
   "language": "python",
   "name": "python3"
  },
  "language_info": {
   "codemirror_mode": {
    "name": "ipython",
    "version": 3
   },
   "file_extension": ".py",
   "mimetype": "text/x-python",
   "name": "python",
   "nbconvert_exporter": "python",
   "pygments_lexer": "ipython3",
   "version": "3.8.13"
  }
 },
 "nbformat": 4,
 "nbformat_minor": 1
}
