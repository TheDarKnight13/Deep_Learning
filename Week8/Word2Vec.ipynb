{
 "cells": [
  {
   "cell_type": "code",
   "execution_count": 3,
   "id": "de9f44f4",
   "metadata": {},
   "outputs": [],
   "source": [
    "#Dowloading the embeddings\n",
    "import gensim.downloader as gen_api\n",
    "from gensim.models import KeyedVectors "
   ]
  },
  {
   "cell_type": "code",
   "execution_count": 5,
   "id": "20b37545",
   "metadata": {},
   "outputs": [],
   "source": [
    "word_vectors = gen_api.load(\"word2vec-google-news-300\")               \n",
    "word_vectors.save( 'vectors.kv')"
   ]
  },
  {
   "cell_type": "code",
   "execution_count": null,
   "id": "2a6caa82",
   "metadata": {},
   "outputs": [],
   "source": []
  }
 ],
 "metadata": {
  "kernelspec": {
   "display_name": "Python 3 (ipykernel)",
   "language": "python",
   "name": "python3"
  },
  "language_info": {
   "codemirror_mode": {
    "name": "ipython",
    "version": 3
   },
   "file_extension": ".py",
   "mimetype": "text/x-python",
   "name": "python",
   "nbconvert_exporter": "python",
   "pygments_lexer": "ipython3",
   "version": "3.8.13"
  }
 },
 "nbformat": 4,
 "nbformat_minor": 5
}
