{
 "cells": [
  {
   "cell_type": "code",
   "execution_count": 1,
   "metadata": {
    "id": "c5FUN2f6_ZaW"
   },
   "outputs": [],
   "source": [
    "#Importing the libraries\n",
    "import torch\n",
    "import torch.nn as nn\n",
    "import os\n",
    "import sys\n",
    "import pickle\n",
    "import random\n",
    "import numpy as np\n",
    "import gzip\n",
    "import gensim.downloader as gen_api\n",
    "from gensim.models import KeyedVectors \n",
    "import matplotlib.pyplot as plt\n",
    "import seaborn as sn\n",
    "import pandas as pd\n",
    "from tqdm import tqdm"
   ]
  },
  {
   "cell_type": "code",
   "execution_count": 2,
   "metadata": {
    "id": "7C4FwxRk_ctH"
   },
   "outputs": [],
   "source": [
    "#Dataset definition from DLStudio\n",
    "class SentimentAnalysisDataset(torch.utils.data.Dataset):\n",
    "    def __init__(self, dataset_file, path_to_saved_embeddings):\n",
    "        super(SentimentAnalysisDataset, self).__init__()\n",
    "               \n",
    "        f = gzip.open(dataset_file, 'rb') #Opening the compressed dataset file \n",
    "        dataset = f.read() #dataset contains the binary objects of the file\n",
    "        self.word_vectors = KeyedVectors.load(path_to_saved_embeddings + 'vectors.kv') #Loading the embeddings for the words as a hashmap\n",
    "        \n",
    "        #Converting the binary string to Python objects\n",
    "        self.positive_reviews, self.negative_reviews, self.vocab = pickle.loads(dataset, encoding='latin1')\n",
    "        #1. Vocab is a list of all the unique words in the dataset\n",
    "        #2. positive_reviews and negative_reviews is a hashmap consisting of 25 keys corresponding to 25 \n",
    "        # different categories. The value corresponding to the category key consists of reviews which are 2D strings with \n",
    "        # each row corresponding to a specific review and the column of that row corresponding to a word\n",
    "        \n",
    "        #Storing each review along with its category and sentiment in a list\n",
    "        self.indexed_dataset = []\n",
    "        for category in self.positive_reviews:             #Iterating through all the categories\n",
    "            for review in self.positive_reviews[category]: #Iterating through all the reviews in each category\n",
    "                self.indexed_dataset.append([review, category, 1]) #1 indicates positive sentiment\n",
    "        for category in self.negative_reviews:             #Iterating through all the categories\n",
    "            for review in self.negative_reviews[category]: #Iterating through all the reviews in each category\n",
    "                self.indexed_dataset.append([review, category, 0]) #0 indicates negative sentiment\n",
    "\n",
    "    def review_to_tensor(self, review):\n",
    "        #Converts each word of the review into its embedding of shape 300        \n",
    "        list_of_embeddings = []\n",
    "        for word in review: #Iterating through each word in the review\n",
    "            if word in self.word_vectors.key_to_index: #Checking if the embedding for the word exists\n",
    "                embedding = self.word_vectors[word]\n",
    "                list_of_embeddings.append(np.array(embedding)) #Appending its embedding to the embedding of all the other words\n",
    "            else:\n",
    "                next\n",
    "        #Converting the list to a tensor\n",
    "        review_array = np.array(list_of_embeddings)\n",
    "        review_tensor = torch.from_numpy(review_array) \n",
    "        return review_tensor #Its of shape (num_words x 300)\n",
    "\n",
    "    def __len__(self):\n",
    "        #Returns the length of the dataset\n",
    "        return len(self.indexed_dataset)\n",
    "\n",
    "    def __getitem__(self, idx):\n",
    "        #Extracts an individual review along with its category and sentiment\n",
    "        sample = self.indexed_dataset[idx]\n",
    "        review = sample[0]\n",
    "        review_category = sample[1]\n",
    "        review_sentiment = sample[2]      \n",
    "        \n",
    "        #Converts the review words to its embeddings for each word of the review\n",
    "        review_tensor = self.review_to_tensor(review)        \n",
    "        \n",
    "        #Wrapping up the review, category and sentiment in a hashmap\n",
    "        sample = {'review'       : review_tensor, \n",
    "                  'sentiment'    : review_sentiment }\n",
    "        return sample\n",
    "\n"
   ]
  },
  {
   "cell_type": "code",
   "execution_count": 3,
   "metadata": {
    "id": "Arn41-ed4mVA"
   },
   "outputs": [],
   "source": [
    "#Model architecture from DLStudio\n",
    "class GRUnet(nn.Module):\n",
    "    def __init__(self, input_size, hidden_size, output_size, num_layers):\n",
    "        super().__init__()\n",
    "        self.hidden_size = hidden_size\n",
    "        self.num_layers = num_layers\n",
    "        self.gru = nn.GRU(input_size, hidden_size, num_layers,bidirectional = True) #Using PyTorch's implementation of GRU\n",
    "        self.fc = nn.Linear(2*hidden_size, output_size)\n",
    "        self.relu = nn.ReLU()\n",
    "        self.logsoftmax = nn.LogSoftmax(dim=1)\n",
    "\n",
    "    def forward(self, x, h):\n",
    "        out, h_new = self.gru(x, h)\n",
    "        final_o = torch.cat((h_new[2,:,:],h_new[3,:,:]),1) #Concatenating the output of left to right(2) and right to left(3)\n",
    "        fout = self.fc(self.relu(final_o))\n",
    "        fout = self.logsoftmax(fout)\n",
    "        return fout, h_new\n",
    "\n",
    "    def init_hidden(self):\n",
    "        #Creates the first hidden input which is all zeros\n",
    "        weight = next(self.parameters()).data\n",
    "        hidden = weight.new( 2*self.num_layers, 1,self.hidden_size).zero_()\n",
    "        return hidden"
   ]
  },
  {
   "cell_type": "code",
   "execution_count": 4,
   "metadata": {
    "id": "mWYAXnDz-Hpj"
   },
   "outputs": [],
   "source": [
    "def testing(net,device,test_dataloader):\n",
    "  test_corr = 0\n",
    "  net.eval()\n",
    "  with torch.no_grad():\n",
    "    loop = tqdm(test_dataloader)\n",
    "    for i,data in enumerate(loop):\n",
    "       review_tensor,sentiment = data['review'], data['sentiment']\n",
    "       review_tensor = review_tensor.to(device)\n",
    "       sentiment = sentiment.to(device)\n",
    "       #Initializing the hidden to 0\n",
    "       hidden = net.init_hidden().to(device)\n",
    "      \n",
    "       #Passing the entire review through the model\n",
    "       output, hidden = net(torch.unsqueeze(review_tensor[0],1), hidden)\n",
    "       predicted = torch.max(output.data, 1)[1] \n",
    "       test_corr += (predicted == sentiment).item()\n",
    "\n",
    "  return (test_corr*100)/len(test_dataloader.dataset)         "
   ]
  },
  {
   "cell_type": "code",
   "execution_count": 5,
   "metadata": {
    "id": "tl1maKx44nQd"
   },
   "outputs": [],
   "source": [
    "#From DLStudio\n",
    "def training(net, criterion, optimizer, epochs, train_dataloader, test_dataloader, device): \n",
    "    training_loss = [] #Keeping track of the loss across epochs\n",
    "    test_accs = [] #Keeping track of test accuracies across epochs\n",
    "   \n",
    "    #Iterating through the epochs\n",
    "    for epoch in range(epochs):  \n",
    "        running_loss = 0.0\n",
    "        loop = tqdm(train_dataloader)\n",
    "        #Iterating through the dataloader\n",
    "        for i, data in enumerate(loop):\n",
    "            #Extracting the review and sentiment\n",
    "            review_tensor,sentiment = data['review'], data['sentiment']\n",
    "            review_tensor = review_tensor.to(device)\n",
    "            sentiment = sentiment.to(device)\n",
    "            optimizer.zero_grad()\n",
    "            \n",
    "            #Initializing the hidden to 0\n",
    "            hidden = net.init_hidden().to(device)            \n",
    "  \n",
    "            #Passing the entire review through the model\n",
    "            output, hidden = net(torch.unsqueeze(review_tensor[0],1), hidden) \n",
    "            #input is of shape (num_words,1,300)\n",
    "            #hidden is of shape (1,1,100)\n",
    "\n",
    "            #Computing loss\n",
    "            loss = criterion(output,sentiment)\n",
    "            running_loss += loss.item()\n",
    "            loop.set_postfix(loss=loss.item()) \n",
    "            loss.backward()\n",
    "            optimizer.step()\n",
    "            \n",
    "        training_loss.append((running_loss)/(i+1))\n",
    "        test_acc = testing(net,device,test_dataloader)\n",
    "        test_accs.append(test_acc)\n",
    "        net.train()\n",
    "        print(\"[epoch: %d, batch: %5d] Loss: %.3f Test Accuracy: %.3f \" % (epoch + 1, i + 1, (running_loss)/(i+1),test_acc))\n",
    "        \n",
    "        \n",
    "    return net, training_loss, test_accs"
   ]
  },
  {
   "cell_type": "code",
   "execution_count": 6,
   "metadata": {
    "id": "089SYV45bK9r"
   },
   "outputs": [],
   "source": [
    "#Function to compute the confusion matrix\n",
    "def confusion_matrix(model,test_data_loader,device):\n",
    "  matrix = torch.zeros((2,2))\n",
    "  model.eval()\n",
    "  with torch.no_grad():\n",
    "    for i,data in enumerate(test_dataloader):\n",
    "       review_tensor,sentiment = data['review'], data['sentiment']\n",
    "       review_tensor = review_tensor.to(device)\n",
    "       sentiment = sentiment.to(device)\n",
    "       #Initializing the hidden to 0\n",
    "       hidden = model.init_hidden().to(device)\n",
    "      \n",
    "       #Passing the entire review through the model\n",
    "       output, hidden = model(torch.unsqueeze(review_tensor[0],1), hidden) \n",
    "\n",
    "       predicted = torch.max(output.data, 1)[1] \n",
    "       matrix[predicted.cpu(),sentiment.cpu()] += 1\n",
    "\n",
    "  heat = pd.DataFrame(matrix, index = [i for i in [\"Negative\",\"Positive\"]],\n",
    "                  columns = [i for i in [\"Negative\",\"Positive\"]])\n",
    "  heat = heat.astype(int)\n",
    "  accuracy = (matrix.trace()/matrix.sum())*100\n",
    "  plt.figure(figsize = (10,7))\n",
    "  plt.title(\"Total accuracy is \"+str(accuracy.item()))\n",
    "  s = sn.heatmap(heat, annot=True,cmap='Blues',fmt='g')\n",
    "  s.set(xlabel='Ground Truth', ylabel='Predicted')\n",
    "  "
   ]
  },
  {
   "cell_type": "code",
   "execution_count": 7,
   "metadata": {
    "colab": {
     "base_uri": "https://localhost:8080/"
    },
    "id": "0KHagN5L5ux2",
    "outputId": "89425a1a-d056-4b56-bb69-17549bf903c1"
   },
   "outputs": [
    {
     "data": {
      "text/plain": [
       "device(type='cuda')"
      ]
     },
     "execution_count": 7,
     "metadata": {},
     "output_type": "execute_result"
    }
   ],
   "source": [
    "device = torch.device(\"cuda\" if torch.cuda.is_available() else \"cpu\")\n",
    "device"
   ]
  },
  {
   "cell_type": "code",
   "execution_count": 8,
   "metadata": {
    "id": "q_fJaxj74p_b"
   },
   "outputs": [],
   "source": [
    "model = GRUnet(input_size=300,hidden_size=100,output_size=2,num_layers=2).to(device)\n",
    "criterion = nn.NLLLoss()\n",
    "optimizer = torch.optim.Adam(model.parameters(), lr=0.001,betas=(0.9,0.99))\n",
    "epochs = 6\n"
   ]
  },
  {
   "cell_type": "code",
   "execution_count": 9,
   "metadata": {
    "colab": {
     "base_uri": "https://localhost:8080/"
    },
    "id": "JDHkq22DR53E",
    "outputId": "a9d9d0f5-ecf8-423b-d177-fc9f62409909"
   },
   "outputs": [
    {
     "name": "stdout",
     "output_type": "stream",
     "text": [
      "The size of the training dataset is 14227\n",
      "The size of the test dataset is 3563\n"
     ]
    }
   ],
   "source": [
    "train_dataset = SentimentAnalysisDataset(dataset_file =\"/content/drive/MyDrive/DL_HW8/sentiment_dataset_train_400.tar.gz\",path_to_saved_embeddings=\"/content/drive/MyDrive/DL_HW8/\") \n",
    "train_dataloader = torch.utils.data.DataLoader(train_dataset,batch_size=1,shuffle=True, num_workers=2)\n",
    "\n",
    "test_dataset = SentimentAnalysisDataset(dataset_file =\"/content/drive/MyDrive/DL_HW8/sentiment_dataset_test_400.tar.gz\",path_to_saved_embeddings=\"/content/drive/MyDrive/DL_HW8/\") \n",
    "test_dataloader = torch.utils.data.DataLoader(test_dataset,batch_size=1,shuffle=True, num_workers=2)\n",
    "\n",
    "print(\"The size of the training dataset is \"+ str(len(train_dataset)))\n",
    "print(\"The size of the test dataset is \"+ str(len(test_dataset)))"
   ]
  },
  {
   "cell_type": "code",
   "execution_count": 10,
   "metadata": {
    "colab": {
     "base_uri": "https://localhost:8080/"
    },
    "id": "4Vti4d1M3bX3",
    "outputId": "a9d1eecf-1551-4c9e-cb91-c48b6f099e4e"
   },
   "outputs": [
    {
     "name": "stderr",
     "output_type": "stream",
     "text": [
      "100%|██████████| 14227/14227 [02:10<00:00, 108.74it/s, loss=0.431]\n",
      "100%|██████████| 3563/3563 [00:13<00:00, 263.17it/s]\n"
     ]
    },
    {
     "name": "stdout",
     "output_type": "stream",
     "text": [
      "[epoch: 1, batch: 14227] Loss: 0.464 Test Accuracy: 83.188 \n"
     ]
    },
    {
     "name": "stderr",
     "output_type": "stream",
     "text": [
      "100%|██████████| 14227/14227 [02:10<00:00, 109.23it/s, loss=0.1]\n",
      "100%|██████████| 3563/3563 [00:13<00:00, 262.71it/s]\n"
     ]
    },
    {
     "name": "stdout",
     "output_type": "stream",
     "text": [
      "[epoch: 2, batch: 14227] Loss: 0.327 Test Accuracy: 87.118 \n"
     ]
    },
    {
     "name": "stderr",
     "output_type": "stream",
     "text": [
      "100%|██████████| 14227/14227 [02:08<00:00, 111.15it/s, loss=0.6]\n",
      "100%|██████████| 3563/3563 [00:13<00:00, 260.61it/s]\n"
     ]
    },
    {
     "name": "stdout",
     "output_type": "stream",
     "text": [
      "[epoch: 3, batch: 14227] Loss: 0.273 Test Accuracy: 84.199 \n"
     ]
    },
    {
     "name": "stderr",
     "output_type": "stream",
     "text": [
      "100%|██████████| 14227/14227 [02:08<00:00, 110.62it/s, loss=0.00309]\n",
      "100%|██████████| 3563/3563 [00:13<00:00, 254.54it/s]\n"
     ]
    },
    {
     "name": "stdout",
     "output_type": "stream",
     "text": [
      "[epoch: 4, batch: 14227] Loss: 0.218 Test Accuracy: 86.304 \n"
     ]
    },
    {
     "name": "stderr",
     "output_type": "stream",
     "text": [
      "100%|██████████| 14227/14227 [02:08<00:00, 110.44it/s, loss=3.37e-5]\n",
      "100%|██████████| 3563/3563 [00:13<00:00, 257.00it/s]\n"
     ]
    },
    {
     "name": "stdout",
     "output_type": "stream",
     "text": [
      "[epoch: 5, batch: 14227] Loss: 0.163 Test Accuracy: 87.567 \n"
     ]
    },
    {
     "name": "stderr",
     "output_type": "stream",
     "text": [
      "100%|██████████| 14227/14227 [02:09<00:00, 110.17it/s, loss=1.19e-7]\n",
      "100%|██████████| 3563/3563 [00:13<00:00, 261.36it/s]"
     ]
    },
    {
     "name": "stdout",
     "output_type": "stream",
     "text": [
      "[epoch: 6, batch: 14227] Loss: 0.129 Test Accuracy: 86.584 \n"
     ]
    },
    {
     "name": "stderr",
     "output_type": "stream",
     "text": [
      "\n"
     ]
    }
   ],
   "source": [
    "trained_model, training_loss, test_accs = training(model, criterion, optimizer, epochs, train_dataloader,test_dataloader, device)"
   ]
  },
  {
   "cell_type": "code",
   "execution_count": 11,
   "metadata": {
    "colab": {
     "base_uri": "https://localhost:8080/",
     "height": 641
    },
    "id": "1BUToG6pab_B",
    "outputId": "2cc09452-7809-4100-e1cb-898e5286f1d2"
   },
   "outputs": [
    {
     "data": {
      "image/png": "[encoded data removed]",
      "text/plain": [
       "<Figure size 1000x700 with 2 Axes>"
      ]
     },
     "metadata": {},
     "output_type": "display_data"
    }
   ],
   "source": [
    "confusion_matrix(trained_model,test_dataloader,device)"
   ]
  },
  {
   "cell_type": "code",
   "execution_count": 12,
   "metadata": {
    "colab": {
     "base_uri": "https://localhost:8080/",
     "height": 489
    },
    "id": "Eowl3SGi5Z-7",
    "outputId": "0003225c-9554-4027-a93d-5e9f539ac6c7"
   },
   "outputs": [
    {
     "data": {
      "text/plain": [
       "[<matplotlib.lines.Line2D at 0x7f3a135fb970>]"
      ]
     },
     "execution_count": 12,
     "metadata": {},
     "output_type": "execute_result"
    },
    {
     "data": {
      "image/png": "[encoded data removed]",
      "text/plain": [
       "<Figure size 640x480 with 1 Axes>"
      ]
     },
     "metadata": {},
     "output_type": "display_data"
    }
   ],
   "source": [
    "#Plotting the training loss vs epochs \n",
    "epochs = np.arange(1,7)\n",
    "plt.xticks(epochs, epochs)\n",
    "plt.xlabel(\"Epochs\")\n",
    "plt.ylabel(\"Loss\")\n",
    "plt.title(\"Loss vs epochs \")\n",
    "plt.plot(epochs,training_loss)\n"
   ]
  },
  {
   "cell_type": "code",
   "execution_count": 13,
   "metadata": {
    "colab": {
     "base_uri": "https://localhost:8080/",
     "height": 489
    },
    "id": "NrVImnTw5rQ0",
    "outputId": "cfc1b728-3e93-4a8a-b55b-dcbc5e3ff182"
   },
   "outputs": [
    {
     "data": {
      "text/plain": [
       "[<matplotlib.lines.Line2D at 0x7f3a1357d4f0>]"
      ]
     },
     "execution_count": 13,
     "metadata": {},
     "output_type": "execute_result"
    },
    {
     "data": {
      "image/png": "[encoded data removed]",
      "text/plain": [
       "<Figure size 640x480 with 1 Axes>"
      ]
     },
     "metadata": {},
     "output_type": "display_data"
    }
   ],
   "source": [
    "#Plotting the test accuracy vs epochs \n",
    "epochs = np.arange(1,7)\n",
    "plt.xticks(epochs, epochs)\n",
    "plt.xlabel(\"Epochs\")\n",
    "plt.ylabel(\"Loss\")\n",
    "plt.title(\"Test Accuracy vs epochs \")\n",
    "plt.plot(epochs,test_accs)"
   ]
  },
  {
   "cell_type": "code",
   "execution_count": 14,
   "metadata": {
    "id": "SODlX8wZ51iA"
   },
   "outputs": [],
   "source": [
    "def count_parameters(model):\n",
    "    return sum(p.numel() for p in model.parameters() if p.requires_grad)"
   ]
  },
  {
   "cell_type": "code",
   "execution_count": 15,
   "metadata": {
    "colab": {
     "base_uri": "https://localhost:8080/"
    },
    "id": "imYgGUHbocn8",
    "outputId": "7dd6e6e7-4e72-4ffe-fc9e-07f93a600edb"
   },
   "outputs": [
    {
     "data": {
      "text/plain": [
       "422802"
      ]
     },
     "execution_count": 15,
     "metadata": {},
     "output_type": "execute_result"
    }
   ],
   "source": [
    "#Number of parameters in the model\n",
    "count_parameters(trained_model)"
   ]
  },
  {
   "cell_type": "code",
   "execution_count": 15,
   "metadata": {
    "id": "NCqbYsUroe9l"
   },
   "outputs": [],
   "source": []
  }
 ],
 "metadata": {
  "accelerator": "GPU",
  "colab": {
   "provenance": []
  },
  "gpuClass": "standard",
  "kernelspec": {
   "display_name": "Python 3 (ipykernel)",
   "language": "python",
   "name": "python3"
  },
  "language_info": {
   "codemirror_mode": {
    "name": "ipython",
    "version": 3
   },
   "file_extension": ".py",
   "mimetype": "text/x-python",
   "name": "python",
   "nbconvert_exporter": "python",
   "pygments_lexer": "ipython3",
   "version": "3.8.13"
  }
 },
 "nbformat": 4,
 "nbformat_minor": 1
}
