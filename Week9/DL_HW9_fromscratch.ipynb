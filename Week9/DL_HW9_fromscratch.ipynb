{
 "cells": [
  {
   "cell_type": "code",
   "execution_count": null,
   "metadata": {
    "id": "dEgOKLOTJ9C4"
   },
   "outputs": [],
   "source": [
    "#Importing the libraries\n",
    "import torch\n",
    "import torch.nn as nn\n",
    "from torch.utils.data import DataLoader, Dataset\n",
    "import torch.nn.functional as F\n",
    "import os\n",
    "import torchvision.transforms as transforms\n",
    "from torchvision import datasets,models\n",
    "from tqdm import tqdm\n",
    "from PIL import Image\n",
    "import numpy as np\n",
    "import time\n",
    "import matplotlib.pyplot as plt\n",
    "import seaborn as sn\n",
    "import pandas as pd\n",
    "from tqdm import tqdm"
   ]
  },
  {
   "cell_type": "code",
   "execution_count": null,
   "metadata": {
    "id": "ttBoB0AfKDhg"
   },
   "outputs": [],
   "source": [
    "#From HW 4\n",
    "class IndexedDataset(Dataset):\n",
    "\n",
    "    def __init__(self, dir_path):\n",
    "        self.dir_path = dir_path\n",
    "        \n",
    "        if os.path.basename(self.dir_path) == 'train': #transforms for the train dataset\n",
    "          self.transform = transforms.Compose([\n",
    "            transforms.ToTensor(),\n",
    "            transforms.Normalize([0.5,0.5,0.5],[0.5,0.5,0.5])\n",
    "        ])\n",
    "        elif os.path.basename(self.dir_path) == 'test': #transforms for the test dataset\n",
    "          self.transform = transforms.Compose([\n",
    "            transforms.ToTensor(),\n",
    "            transforms.Normalize([0.5,0.5,0.5],[0.5,0.5,0.5])\n",
    "        ])\n",
    "        \n",
    "        image_filenames = []\n",
    "        for (dirpath, dirnames, filenames) in os.walk(dir_path): #Saving all the image locations\n",
    "            image_filenames += [os.path.join(dirpath, file) for file in filenames]\n",
    "        self.image_filenames = image_filenames    \n",
    "        self.labels_map = {\"airplane\" : 0, \"bus\": 1, \"cat\" : 2, \"dog\" : 3, \"pizza\" : 4} #Creating hashmap of the class and a number\n",
    "\n",
    "    def __len__(self):\n",
    "        return len(self.image_filenames)\n",
    "\n",
    "    def __getitem__(self, idx):\n",
    "        img_name = self.image_filenames[idx]\n",
    "        image = Image.open(img_name).convert('RGB')\n",
    "        image = self.transform(image)\n",
    "        return image, self.labels_map[os.path.basename(os.path.dirname(img_name))]\n"
   ]
  },
  {
   "cell_type": "code",
   "execution_count": null,
   "metadata": {
    "id": "VmkOfnj4O-Kd"
   },
   "outputs": [],
   "source": [
    "#Converts the images to patches\n",
    "class Patch_Embedding(nn.Module):\n",
    "    def __init__(self,in_channels=3,embedding_size=768,patch_size=16,img_size=224):\n",
    "        #Assuming that the image size is perfectly divisible by patch_size\n",
    "        super().__init__()\n",
    "        self.embedding_size = embedding_size\n",
    "        self.num_patches = (img_size//patch_size)**2 #(h*w)/patch_size**2\n",
    "        self.conv = nn.Conv2d(in_channels,embedding_size,patch_size,stride=patch_size) #Divides up the images into patches\n",
    "        self.cls = nn.Parameter(torch.randn((1,embedding_size))) #The cls token\n",
    "        self.pos = nn.Parameter(torch.randn((self.num_patches+1,embedding_size))) #Position embedding     \n",
    "         \n",
    "    def forward(self,x):\n",
    "        # x is of shape (b,c,h,w)\n",
    "        batch_size = x.shape[0]\n",
    "        y = self.conv(x) #y is of shape (b,embedding_size,h/patch_size,w/patch_size)\n",
    "        out = y.view(-1,self.embedding_size,self.num_patches) #out is of shape (b,embedding_size,(h*w)/patch_size**2)\n",
    "        out = torch.permute(out,(0,2,1)) #out is of shape (b,num_patches,embedding_size)\n",
    "        \n",
    "        #Appending the cls token\n",
    "        cout = torch.concat((out,self.cls.repeat(batch_size,1,1)),1) #cout is of shape (b,num_patches+1,embedding_size)\n",
    "        \n",
    "        #Adding the position embedding\n",
    "        pcout = cout+self.pos.repeat(batch_size,1,1)  #pcout is of shape (b,num_patches+1,embedding_size)\n",
    "        \n",
    "        return pcout"
   ]
  },
  {
   "cell_type": "code",
   "execution_count": null,
   "metadata": {
    "id": "9Rbp122ITDCY"
   },
   "outputs": [],
   "source": [
    "#Final classification head\n",
    "class ClassificationHead(nn.Module):\n",
    "    def __init__(self,embedding_size=768,num_classes=5):\n",
    "        super().__init__()\n",
    "        self.fc = nn.Linear(embedding_size,num_classes)\n",
    "    \n",
    "    def forward(self,x):\n",
    "        #x is of shape (b,num_patches,embedding_size)\n",
    "        x = x[:,-1,:] #Taking the output of the last patch\n",
    "        out = self.fc(x)\n",
    "        return out"
   ]
  },
  {
   "cell_type": "code",
   "execution_count": null,
   "metadata": {
    "id": "gfl4vp6OkyVb"
   },
   "outputs": [],
   "source": [
    "#Main attention implementation\n",
    "class MultiAttentionhead(nn.Module):\n",
    "    def __init__(self,embedding_size=768,num_heads=8,p=0.0):\n",
    "        super().__init__()\n",
    "        self.embedding_size = embedding_size #The embedding size of each 16x16 sized image patch\n",
    "        self.num_heads = num_heads #Into how many parts the embedding is split into\n",
    "        self.QKV = nn.Linear(embedding_size,3*embedding_size) #The learnable matrices for Query,Key and Value\n",
    "        self.fc = nn.Linear(embedding_size,embedding_size) #To be applied at the output \n",
    "        self.drop = nn.Dropout(p) #'p' is Dropped out\n",
    "        \n",
    "    def forward(self,x):\n",
    "        #x is of shape (b,num_patches,embedding_size)\n",
    "        b = x.shape[0]\n",
    "        num_patches = x.shape[1]\n",
    "        \n",
    "        #Getting the Q,K,V for every patch in all the batches\n",
    "        QKV1 = self.QKV(x) #QKV1 is of shape (b,num_patches,3*embedding_size)\n",
    "        QKV2 = QKV1.reshape(b,num_patches,self.num_heads,self.embedding_size//self.num_heads,3) #QKV2 is of shape \n",
    "                                                                                                #(b,num_patches,heads,embedding_size/heads,3)\n",
    "                                                                                                \n",
    "        Q,K,V = torch.permute(QKV2,(4,0,2,1,3)) #Q,K,V are of shape (b,heads,num_patches,embedding/heads)\n",
    "        \n",
    "        #Computing the attention\n",
    "        QKT = torch.einsum('bhid,bhjd -> bhij',Q,K) #QKT is of shape (b,heads,num_patches,num_patches)\n",
    "                                                    #This gives the relationship between each patch\n",
    "            \n",
    "        attention = F.softmax(QKT,dim=-1)/(self.embedding_size**(0.5)) #Softmax converts the relationship between one patch to \n",
    "                                                                       # to all the other patches into a pdf for all the patches\n",
    "        attention = self.drop(attention)\n",
    "        \n",
    "        #Updating the value \n",
    "        QKtV = torch.einsum('bhik,bhkj -> bhij',QKT,V) #is of shape (b,heads,num_patches,embedding/heads)\n",
    "        z = torch.permute(QKtV,(0,2,1,3)) #is of shape (b,num_patches,heads,embedding/heads)\n",
    "        Z = z.reshape(b,num_patches,-1) #is of shape (b,num_patches,embedding_size)\n",
    "        out = self.fc(Z) #is of shape (b,num_patches,embedding_size)\n",
    "        return out\n",
    "        \n",
    "        \n",
    "        "
   ]
  },
  {
   "cell_type": "code",
   "execution_count": null,
   "metadata": {
    "id": "wodI3jk1THy4"
   },
   "outputs": [],
   "source": [
    "#Multi layer perceptron at the end of every Transformer block\n",
    "class MLP(nn.Module):\n",
    "    #The MLP block within the transformer\n",
    "    def __init__(self,embedding_size=768,p=0.0,expansion=4):\n",
    "        super().__init__()\n",
    "        self.fc1 = nn.Linear(embedding_size,expansion*embedding_size)\n",
    "        self.fc2 = nn.Linear(expansion*embedding_size,embedding_size)\n",
    "        self.gelu = nn.GELU()\n",
    "        self.drop = nn.Dropout(p)\n",
    "    \n",
    "    def forward(self,x):  \n",
    "        #x is of shape (b,num_patches,embedding_size)\n",
    "        x = self.gelu(self.fc1(x))\n",
    "        out = self.fc2(self.drop(x))\n",
    "        return out"
   ]
  },
  {
   "cell_type": "code",
   "execution_count": null,
   "metadata": {
    "id": "TLtlnckjk61k"
   },
   "outputs": [],
   "source": [
    "#One transformer block\n",
    "class Transformer(nn.Module):\n",
    "    #The overall Transformer block\n",
    "    def __init__(self,embedding_size=768,p=0.0,expansion=4,num_heads=8):\n",
    "        super().__init__()\n",
    "        self.ln1 = nn.LayerNorm(embedding_size)\n",
    "        self.MAH = MultiAttentionhead(embedding_size,num_heads,p)\n",
    "        self.ln2 = nn.LayerNorm(embedding_size)\n",
    "        self.mlp = MLP(embedding_size,p,expansion)\n",
    "        \n",
    "    def forward(self,x):\n",
    "        identity1 = x\n",
    "        x = self.MAH(self.ln1(x))\n",
    "        identity2 = x + identity1 #skip connection\n",
    "        out = self.mlp(self.ln2(identity2))\n",
    "        out = out + identity2 #skip connection\n",
    "        return out\n",
    "        "
   ]
  },
  {
   "cell_type": "code",
   "execution_count": null,
   "metadata": {
    "id": "1Z3_WU1Hk9S4"
   },
   "outputs": [],
   "source": [
    "#Overall ViT implementation\n",
    "class ViT(nn.Module):\n",
    "    def __init__(self,embedding_size=768,p=0.0,expansion=4,num_heads=8,in_channels=3,patch_size=16,img_size=224,num_classes=1000,depth=12):\n",
    "        super().__init__()\n",
    "        \n",
    "        self.embedding = Patch_Embedding(in_channels,embedding_size,patch_size,img_size)\n",
    "        \n",
    "        Tlayers = [] #A ViT would have multiple (depth) Transformer blocks\n",
    "        for i in range(depth):\n",
    "            Tlayers.append(Transformer(embedding_size,p,expansion,num_heads))\n",
    "        \n",
    "        self.Tlayers = nn.Sequential(*Tlayers)\n",
    "        \n",
    "        self.head = ClassificationHead(embedding_size,num_classes)\n",
    "        \n",
    "    def forward(self,x):\n",
    "        #Getting the embeddings of each patch of all the batch images\n",
    "        x = self.embedding(x)\n",
    "        \n",
    "        #Passing them through \"depth\" Transformer blocks\n",
    "        x = self.Tlayers(x)\n",
    "        \n",
    "        #Passing the output through classification head\n",
    "        out = self.head(x)\n",
    "        return out\n",
    "        \n",
    "        "
   ]
  },
  {
   "cell_type": "code",
   "execution_count": null,
   "metadata": {
    "id": "sEBhCepWVvie"
   },
   "outputs": [],
   "source": [
    "#Function to count the number of parameters from https://discuss.pytorch.org/t/how-do-i-check-the-number-of-parameters-of-a-model/4325\n",
    "def count_parameters(model):\n",
    "    return sum(p.numel() for p in model.parameters() if p.requires_grad)"
   ]
  },
  {
   "cell_type": "code",
   "execution_count": null,
   "metadata": {
    "id": "5mCy2hqiB8qz"
   },
   "outputs": [],
   "source": [
    "#Function to calculate the accuracy of the model \n",
    "def find_acc(net,dataloader):\n",
    "  net.eval()\n",
    "  correct = 0\n",
    "  with torch.no_grad():\n",
    "    loop = tqdm(dataloader)\n",
    "    for i,data in enumerate(loop):\n",
    "      inputs, labels = data\n",
    "      inputs = inputs.to(device)\n",
    "      labels = labels.to(device)\n",
    "      outputs = net(inputs)\n",
    "      predicted = torch.argmax(outputs,1)\n",
    "      correct  = correct + torch.sum(predicted.cpu()==labels.cpu()).item()\n",
    "  net.train()\n",
    "  return (correct*100)/len(dataloader.dataset)\n",
    "\n",
    "\n",
    "    "
   ]
  },
  {
   "cell_type": "code",
   "execution_count": null,
   "metadata": {
    "id": "AHXKK0xVC8KP"
   },
   "outputs": [],
   "source": [
    "#Funtion to train the model\n",
    "def training(epochs,optimizer,criterion,net,train_data_loader,test_data_loader,device):\n",
    "  train_losses = []\n",
    "  train_accs = []\n",
    "  test_accs = []\n",
    "  for epoch in range(epochs):\n",
    "    running_loss = 0.0\n",
    "    loop = tqdm(train_data_loader)\n",
    "    for i, data in enumerate(loop):\n",
    "      inputs, labels = data\n",
    "      inputs = inputs.to(device)\n",
    "      labels = labels.to(device)\n",
    "      optimizer.zero_grad()\n",
    "      outputs = net(inputs)\n",
    "      loss = criterion(outputs, labels)\n",
    "      loss.backward()\n",
    "      optimizer.step()\n",
    "      running_loss += loss.cpu().item()\n",
    "      loop.set_postfix(loss=running_loss/(i+1))\n",
    "\n",
    "    train_acc = find_acc(net,train_data_loader)  \n",
    "    test_acc = find_acc(net,test_data_loader)\n",
    "\n",
    "    train_accs.append(train_acc)\n",
    "    test_accs.append(test_acc)\n",
    "\n",
    "    print(\"[epoch: %d] loss: %.3f Train Accuracy: %.3f Test Accuracy: %.3f \" % (epoch + 1, running_loss/(i+1),train_acc,test_acc))\n",
    "    print(\"\\n\")\n",
    "    train_losses.append(running_loss/len(train_dataset))\n",
    "  return net, train_losses, train_accs, test_accs "
   ]
  },
  {
   "cell_type": "code",
   "execution_count": null,
   "metadata": {
    "id": "YzvLptnqiFUM"
   },
   "outputs": [],
   "source": [
    "#Function to plot the confusion matrix \n",
    "def confusion_matrix(model,test_data_loader):\n",
    "  matrix = torch.zeros((5,5))\n",
    "  with torch.no_grad():\n",
    "    for b, (X_test, y_test) in enumerate(test_data_loader):\n",
    "      model.eval()                \n",
    "      X_test, y_test = X_test.to(device), y_test.to(device)                \n",
    "      # Apply the model                \n",
    "      y_val = model(X_test)           \n",
    "               \n",
    "      # Tally the number of correct predictions\n",
    "      predicted = torch.max(y_val.data, 1)[1] \n",
    "      for i in range(len(predicted)):\n",
    "        matrix[predicted[i].cpu(),y_test[i].cpu()] += 1\n",
    "\n",
    "  heat = pd.DataFrame(matrix, index = [i for i in [\"airplane\",\"bus\",\"cat\",\"dog\",\"pizza\"]],\n",
    "                  columns = [i for i in [\"airplane\",\"bus\",\"cat\",\"dog\",\"pizza\"]])\n",
    "  heat = heat.astype(int)\n",
    "  accuracy = (matrix.trace()/matrix.sum())*100\n",
    "  plt.figure(figsize = (10,7))\n",
    "  plt.title(\"Total accuracy is \"+str(accuracy.item()))\n",
    "  s = sn.heatmap(heat, annot=True,cmap='Blues',fmt='g')\n",
    "  s.set(xlabel='Ground Truth', ylabel='Predicted')\n",
    "  \n",
    "                \n"
   ]
  },
  {
   "cell_type": "code",
   "execution_count": null,
   "metadata": {
    "colab": {
     "base_uri": "https://localhost:8080/"
    },
    "id": "Rw3Zwi0_KQhU",
    "outputId": "b556e7ad-27c9-42e8-d1e8-3349a06740df"
   },
   "outputs": [
    {
     "data": {
      "text/plain": [
       "device(type='cuda')"
      ]
     },
     "execution_count": 13,
     "metadata": {},
     "output_type": "execute_result"
    }
   ],
   "source": [
    "device = torch.device(\"cuda\" if torch.cuda.is_available() else \"cpu\")\n",
    "device"
   ]
  },
  {
   "cell_type": "code",
   "execution_count": null,
   "metadata": {
    "colab": {
     "base_uri": "https://localhost:8080/"
    },
    "id": "BTHZvxDuKW3A",
    "outputId": "3d25a17c-6b6b-4c27-ba9e-ec2780753be8"
   },
   "outputs": [
    {
     "name": "stderr",
     "output_type": "stream",
     "text": [
      "/usr/local/lib/python3.10/dist-packages/torch/utils/data/dataloader.py:561: UserWarning: This DataLoader will create 32 worker processes in total. Our suggested max number of worker in current system is 2, which is smaller than what this DataLoader is going to create. Please be aware that excessive worker creation might get DataLoader running slow or even freeze, lower the worker number to avoid potential slowness/freeze if necessary.\n",
      "  warnings.warn(_create_warning_msg(\n"
     ]
    }
   ],
   "source": [
    "train_dataset = IndexedDataset(\"/content/drive/MyDrive/Dataset_HW4/train\")\n",
    "test_dataset = IndexedDataset(\"/content/drive/MyDrive/Dataset_HW4/test\")\n",
    "train_data_loader = DataLoader(train_dataset,batch_size=32, shuffle=True,num_workers=32)\n",
    "test_data_loader = DataLoader(test_dataset,batch_size=32, shuffle=True,num_workers=32)\n",
    "\n",
    "criterion = nn.CrossEntropyLoss()\n",
    "epochs = 10\n",
    "\n",
    "model = ViT(embedding_size=384,p=0.0,expansion=4,num_heads=64,in_channels=3,patch_size=16,img_size=64,num_classes=5,depth=6).to(device)\n",
    "optimizer = torch.optim.Adam(model.parameters(), lr=0.00001, betas = (0.9,0.99))\n"
   ]
  },
  {
   "cell_type": "code",
   "execution_count": null,
   "metadata": {
    "colab": {
     "base_uri": "https://localhost:8080/"
    },
    "id": "0sDbkRxdlYCP",
    "outputId": "99b96ccf-3a95-409a-d279-40f12d44921e"
   },
   "outputs": [
    {
     "data": {
      "text/plain": [
       "10950917"
      ]
     },
     "execution_count": 15,
     "metadata": {},
     "output_type": "execute_result"
    }
   ],
   "source": [
    "count_parameters(model)"
   ]
  },
  {
   "cell_type": "code",
   "execution_count": null,
   "metadata": {
    "colab": {
     "base_uri": "https://localhost:8080/"
    },
    "id": "yiO46tIiQIiK",
    "outputId": "d3996f90-7af2-4021-d3ee-272a6b2b12ac"
   },
   "outputs": [
    {
     "name": "stdout",
     "output_type": "stream",
     "text": [
      "7500\n",
      "2500\n"
     ]
    }
   ],
   "source": [
    "print(len(train_dataset))\n",
    "print(len(test_dataset))"
   ]
  },
  {
   "cell_type": "code",
   "execution_count": null,
   "metadata": {
    "colab": {
     "base_uri": "https://localhost:8080/"
    },
    "id": "ST00rdLzXFtj",
    "outputId": "77e8f412-f2b7-41a2-b792-b618c101ee8f"
   },
   "outputs": [
    {
     "name": "stderr",
     "output_type": "stream",
     "text": [
      "100%|██████████| 235/235 [02:59<00:00,  1.31it/s, loss=1.38]\n",
      "100%|██████████| 235/235 [00:13<00:00, 17.18it/s]\n",
      "100%|██████████| 79/79 [01:15<00:00,  1.04it/s]\n"
     ]
    },
    {
     "name": "stdout",
     "output_type": "stream",
     "text": [
      "[epoch: 1] loss: 1.384 Train Accuracy: 57.120 Test Accuracy: 47.120 \n",
      "\n",
      "\n"
     ]
    },
    {
     "name": "stderr",
     "output_type": "stream",
     "text": [
      "100%|██████████| 235/235 [00:17<00:00, 13.14it/s, loss=1.05]\n",
      "100%|██████████| 235/235 [00:14<00:00, 15.92it/s]\n",
      "100%|██████████| 79/79 [00:05<00:00, 13.29it/s]\n"
     ]
    },
    {
     "name": "stdout",
     "output_type": "stream",
     "text": [
      "[epoch: 2] loss: 1.050 Train Accuracy: 69.640 Test Accuracy: 51.720 \n",
      "\n",
      "\n"
     ]
    },
    {
     "name": "stderr",
     "output_type": "stream",
     "text": [
      "100%|██████████| 235/235 [00:18<00:00, 12.82it/s, loss=0.878]\n",
      "100%|██████████| 235/235 [00:14<00:00, 16.61it/s]\n",
      "100%|██████████| 79/79 [00:06<00:00, 13.03it/s]\n"
     ]
    },
    {
     "name": "stdout",
     "output_type": "stream",
     "text": [
      "[epoch: 3] loss: 0.878 Train Accuracy: 76.427 Test Accuracy: 50.880 \n",
      "\n",
      "\n"
     ]
    },
    {
     "name": "stderr",
     "output_type": "stream",
     "text": [
      "100%|██████████| 235/235 [00:17<00:00, 13.22it/s, loss=0.732]\n",
      "100%|██████████| 235/235 [00:14<00:00, 16.04it/s]\n",
      "100%|██████████| 79/79 [00:05<00:00, 13.17it/s]\n"
     ]
    },
    {
     "name": "stdout",
     "output_type": "stream",
     "text": [
      "[epoch: 4] loss: 0.732 Train Accuracy: 83.293 Test Accuracy: 52.120 \n",
      "\n",
      "\n"
     ]
    },
    {
     "name": "stderr",
     "output_type": "stream",
     "text": [
      "100%|██████████| 235/235 [00:18<00:00, 13.03it/s, loss=0.578]\n",
      "100%|██████████| 235/235 [00:13<00:00, 17.15it/s]\n",
      "100%|██████████| 79/79 [00:06<00:00, 12.25it/s]\n"
     ]
    },
    {
     "name": "stdout",
     "output_type": "stream",
     "text": [
      "[epoch: 5] loss: 0.578 Train Accuracy: 89.440 Test Accuracy: 51.840 \n",
      "\n",
      "\n"
     ]
    },
    {
     "name": "stderr",
     "output_type": "stream",
     "text": [
      "100%|██████████| 235/235 [00:17<00:00, 13.25it/s, loss=0.435]\n",
      "100%|██████████| 235/235 [00:14<00:00, 15.81it/s]\n",
      "100%|██████████| 79/79 [00:06<00:00, 13.05it/s]\n"
     ]
    },
    {
     "name": "stdout",
     "output_type": "stream",
     "text": [
      "[epoch: 6] loss: 0.435 Train Accuracy: 93.307 Test Accuracy: 50.960 \n",
      "\n",
      "\n"
     ]
    },
    {
     "name": "stderr",
     "output_type": "stream",
     "text": [
      "100%|██████████| 235/235 [00:18<00:00, 12.85it/s, loss=0.293]\n",
      "100%|██████████| 235/235 [00:13<00:00, 17.05it/s]\n",
      "100%|██████████| 79/79 [00:06<00:00, 12.05it/s]\n"
     ]
    },
    {
     "name": "stdout",
     "output_type": "stream",
     "text": [
      "[epoch: 7] loss: 0.293 Train Accuracy: 95.267 Test Accuracy: 51.480 \n",
      "\n",
      "\n"
     ]
    },
    {
     "name": "stderr",
     "output_type": "stream",
     "text": [
      "100%|██████████| 235/235 [00:17<00:00, 13.26it/s, loss=0.215]\n",
      "100%|██████████| 235/235 [00:18<00:00, 13.04it/s]\n",
      "100%|██████████| 79/79 [00:06<00:00, 13.07it/s]\n"
     ]
    },
    {
     "name": "stdout",
     "output_type": "stream",
     "text": [
      "[epoch: 8] loss: 0.215 Train Accuracy: 96.040 Test Accuracy: 47.800 \n",
      "\n",
      "\n"
     ]
    },
    {
     "name": "stderr",
     "output_type": "stream",
     "text": [
      "100%|██████████| 235/235 [00:17<00:00, 13.42it/s, loss=0.158]\n",
      "100%|██████████| 235/235 [00:13<00:00, 16.99it/s]\n",
      "100%|██████████| 79/79 [00:07<00:00, 10.35it/s]\n"
     ]
    },
    {
     "name": "stdout",
     "output_type": "stream",
     "text": [
      "[epoch: 9] loss: 0.158 Train Accuracy: 97.427 Test Accuracy: 48.720 \n",
      "\n",
      "\n"
     ]
    },
    {
     "name": "stderr",
     "output_type": "stream",
     "text": [
      "100%|██████████| 235/235 [00:17<00:00, 13.14it/s, loss=0.144]\n",
      "100%|██████████| 235/235 [00:14<00:00, 15.68it/s]\n",
      "100%|██████████| 79/79 [00:06<00:00, 12.88it/s]"
     ]
    },
    {
     "name": "stdout",
     "output_type": "stream",
     "text": [
      "[epoch: 10] loss: 0.144 Train Accuracy: 97.680 Test Accuracy: 50.560 \n",
      "\n",
      "\n"
     ]
    },
    {
     "name": "stderr",
     "output_type": "stream",
     "text": [
      "\n"
     ]
    },
    {
     "data": {
      "image/png": "[encoded data removed]",
      "text/plain": [
       "<Figure size 1000x700 with 2 Axes>"
      ]
     },
     "metadata": {},
     "output_type": "display_data"
    }
   ],
   "source": [
    "trained_model,train_losses,train_accs, test_accs  = training(epochs,optimizer,criterion,model,train_data_loader,test_data_loader,device)\n",
    "confusion_matrix(trained_model,test_data_loader) "
   ]
  },
  {
   "cell_type": "code",
   "execution_count": null,
   "metadata": {
    "colab": {
     "base_uri": "https://localhost:8080/",
     "height": 124
    },
    "id": "H3N6l6zKl3tM",
    "outputId": "4687505e-c05d-4d08-c7d2-1d7ace948584"
   },
   "outputs": [
    {
     "name": "stderr",
     "output_type": "stream",
     "text": [
      "WARNING:matplotlib.legend:No artists with labels found to put in legend.  Note that artists whose label start with an underscore are ignored when legend() is called with no argument.\n"
     ]
    },
    {
     "data": {
      "text/plain": [
       "<matplotlib.legend.Legend at 0x7f34290a4490>"
      ]
     },
     "execution_count": 18,
     "metadata": {},
     "output_type": "execute_result"
    },
    {
     "data": {
      "image/png": "[encoded data removed]",
      "text/plain": [
       "<Figure size 640x480 with 1 Axes>"
      ]
     },
     "metadata": {},
     "output_type": "display_data"
    }
   ],
   "source": [
    "epochs = np.arange(1,11)\n",
    "plt.xticks(epochs, epochs)\n",
    "plt.xlabel(\"Epochs\")\n",
    "plt.ylabel(\"Loss\")\n",
    "plt.title(\"Training Loss vs epochs\")\n",
    "plt.plot(epochs,train_losses)\n",
    "plt.legend(loc = \"upper right\")\n"
   ]
  },
  {
   "cell_type": "code",
   "execution_count": null,
   "metadata": {
    "colab": {
     "base_uri": "https://localhost:8080/",
     "height": 489
    },
    "id": "IGEFctWjHAF9",
    "outputId": "e122313e-b9f8-444e-efed-4233f7cfc3d5"
   },
   "outputs": [
    {
     "data": {
      "text/plain": [
       "<matplotlib.legend.Legend at 0x7f342913ab90>"
      ]
     },
     "execution_count": 19,
     "metadata": {},
     "output_type": "execute_result"
    },
    {
     "data": {
      "image/png": "[encoded data removed]",
      "text/plain": [
       "<Figure size 640x480 with 1 Axes>"
      ]
     },
     "metadata": {},
     "output_type": "display_data"
    }
   ],
   "source": [
    "epochs = np.arange(1,11)\n",
    "plt.xticks(epochs, epochs)\n",
    "plt.xlabel(\"Epochs\")\n",
    "plt.ylabel(\"Accuracy\")\n",
    "plt.title(\"Accuracy vs epochs\")\n",
    "plt.plot(epochs,test_accs,label=\"Test Accuracy\")\n",
    "plt.plot(epochs,train_accs,label=\"Train Accuracy\")\n",
    "plt.legend(loc = \"upper right\")\n"
   ]
  },
  {
   "cell_type": "code",
   "execution_count": null,
   "metadata": {
    "id": "BN-vCJvjdB2Q"
   },
   "outputs": [],
   "source": []
  }
 ],
 "metadata": {
  "accelerator": "GPU",
  "colab": {
   "provenance": []
  },
  "gpuClass": "standard",
  "kernelspec": {
   "display_name": "Python 3 (ipykernel)",
   "language": "python",
   "name": "python3"
  },
  "language_info": {
   "codemirror_mode": {
    "name": "ipython",
    "version": 3
   },
   "file_extension": ".py",
   "mimetype": "text/x-python",
   "name": "python",
   "nbconvert_exporter": "python",
   "pygments_lexer": "ipython3",
   "version": "3.8.13"
  }
 },
 "nbformat": 4,
 "nbformat_minor": 1
}
