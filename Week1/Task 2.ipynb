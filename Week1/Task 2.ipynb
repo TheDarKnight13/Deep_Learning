{
 "cells": [
  {
   "cell_type": "code",
   "execution_count": 1,
   "id": "cb94b119",
   "metadata": {},
   "outputs": [],
   "source": [
    "import math as m"
   ]
  },
  {
   "cell_type": "code",
   "execution_count": 2,
   "id": "c62fd3fa",
   "metadata": {},
   "outputs": [],
   "source": [
    "class Sequence():\n",
    "    def __init__(self,array):\n",
    "        self.array = array\n",
    "        \n",
    "    def __len__(self):\n",
    "        return len(self.array)\n",
    "        \n",
    "    def __iter__(self):\n",
    "        return Sequence_iter(self)\n",
    "    \n",
    "    def __gt__(self,other):\n",
    "        if len(self.array)!=len(other.array):\n",
    "            raise ValueError(\"Two arrays are not equal in length!\")\n",
    "        else:\n",
    "            count = 0\n",
    "            for i in range(len(self.array)):\n",
    "                if self.array[i]>other.array[i]:\n",
    "                    count = count+1\n",
    "            \n",
    "            return count\n",
    "        \n",
    "class Sequence_iter():\n",
    "    def __init__(self,obj):\n",
    "        self.items = obj.array\n",
    "        self.index = -1\n",
    "    \n",
    "    def __iter__(self):\n",
    "        return self\n",
    "    \n",
    "    def __next__(self):\n",
    "        self.index= self.index+1\n",
    "        if self.index<len(self.items):\n",
    "            return self.items[self.index]\n",
    "        else:\n",
    "            raise StopIteration        "
   ]
  },
  {
   "cell_type": "code",
   "execution_count": 3,
   "id": "bd9c1e00",
   "metadata": {},
   "outputs": [],
   "source": [
    "class Fibonacci(Sequence):\n",
    "    def __init__(self,first_value,second_value):\n",
    "        super().__init__([])\n",
    "        self.first_value = first_value\n",
    "        self.second_value = second_value\n",
    "        \n",
    "    def series(self):\n",
    "        t1 = self.first_value\n",
    "        t2 = self.second_value\n",
    "        self.array = [t1,t2]\n",
    "        for i in range(self.length-2):\n",
    "            t3 = t2\n",
    "            t2 = t1+t2\n",
    "            t1 = t3\n",
    "            self.array.append(t2)                    \n",
    "        \n",
    "    def __call__(self,length):\n",
    "        self.length = length\n",
    "        self.array =[]\n",
    "        self.series()\n",
    "        print(self.array)\n",
    "        \n",
    "        "
   ]
  },
  {
   "cell_type": "code",
   "execution_count": 4,
   "id": "06bb7d7f",
   "metadata": {},
   "outputs": [],
   "source": [
    "class Prime(Sequence):\n",
    "    def __init__(self):\n",
    "        super().__init__([])\n",
    "    \n",
    "    def series(self):\n",
    "        i = 2\n",
    "        while(len(self.array)<self.length):\n",
    "            flag=0;\n",
    "            for j in range(2,int(m.sqrt(i))+1):\n",
    "                if i%j==0:\n",
    "                    flag = 1\n",
    "                    break            \n",
    "            if flag == 0:\n",
    "                self.array.append(i)\n",
    "            i = i+1\n",
    "        \n",
    "    def __call__(self,length):\n",
    "        self.length = length\n",
    "        self.array =[]\n",
    "        self.series()\n",
    "        print(self.array)\n",
    "    \n"
   ]
  },
  {
   "cell_type": "markdown",
   "id": "53a13988",
   "metadata": {},
   "source": [
    "#### Task 3"
   ]
  },
  {
   "cell_type": "code",
   "execution_count": 5,
   "id": "70d211db",
   "metadata": {},
   "outputs": [
    {
     "name": "stdout",
     "output_type": "stream",
     "text": [
      "[0, 1, 1, 2, 3, 5]\n"
     ]
    }
   ],
   "source": [
    "FS = Fibonacci(first_value=0,second_value=1)\n",
    "FS(6)"
   ]
  },
  {
   "cell_type": "markdown",
   "id": "776be2d4",
   "metadata": {},
   "source": [
    "#### Task 4"
   ]
  },
  {
   "cell_type": "code",
   "execution_count": 6,
   "id": "d1a86ce7",
   "metadata": {},
   "outputs": [
    {
     "name": "stdout",
     "output_type": "stream",
     "text": [
      "6\n"
     ]
    }
   ],
   "source": [
    "print(len(FS))"
   ]
  },
  {
   "cell_type": "code",
   "execution_count": 7,
   "id": "a38e7166",
   "metadata": {},
   "outputs": [
    {
     "name": "stdout",
     "output_type": "stream",
     "text": [
      "[0, 1, 1, 2, 3, 5]\n"
     ]
    }
   ],
   "source": [
    "print([n for n in FS]) "
   ]
  },
  {
   "cell_type": "markdown",
   "id": "5e0e700b",
   "metadata": {},
   "source": [
    "#### Task 5 "
   ]
  },
  {
   "cell_type": "code",
   "execution_count": 8,
   "id": "88163d35",
   "metadata": {},
   "outputs": [
    {
     "name": "stdout",
     "output_type": "stream",
     "text": [
      "[2, 3, 5, 7, 11, 13, 17]\n"
     ]
    }
   ],
   "source": [
    "#Task 5\n",
    "PS = Prime()\n",
    "PS(7)"
   ]
  },
  {
   "cell_type": "code",
   "execution_count": 9,
   "id": "87b62960",
   "metadata": {},
   "outputs": [
    {
     "name": "stdout",
     "output_type": "stream",
     "text": [
      "7\n"
     ]
    }
   ],
   "source": [
    "print(len(PS))"
   ]
  },
  {
   "cell_type": "code",
   "execution_count": 10,
   "id": "7df26c45",
   "metadata": {},
   "outputs": [
    {
     "name": "stdout",
     "output_type": "stream",
     "text": [
      "[2, 3, 5, 7, 11, 13, 17]\n"
     ]
    }
   ],
   "source": [
    "print([n for n in PS]) "
   ]
  },
  {
   "cell_type": "markdown",
   "id": "fcfc48cf",
   "metadata": {},
   "source": [
    "#### Task 6"
   ]
  },
  {
   "cell_type": "code",
   "execution_count": 11,
   "id": "551aac65",
   "metadata": {},
   "outputs": [
    {
     "name": "stdout",
     "output_type": "stream",
     "text": [
      "[0, 1, 1, 2, 3, 5, 8, 13, 21, 34, 55, 89]\n"
     ]
    }
   ],
   "source": [
    "FS = Fibonacci(first_value=0,second_value=1)\n",
    "FS(12)"
   ]
  },
  {
   "cell_type": "code",
   "execution_count": 12,
   "id": "a63ee158",
   "metadata": {},
   "outputs": [
    {
     "name": "stdout",
     "output_type": "stream",
     "text": [
      "[2, 3, 5, 7, 11, 13, 17, 19, 23, 29, 31, 37]\n"
     ]
    }
   ],
   "source": [
    "PS = Prime()\n",
    "PS(12)"
   ]
  },
  {
   "cell_type": "code",
   "execution_count": 13,
   "id": "a2891f8a",
   "metadata": {},
   "outputs": [
    {
     "name": "stdout",
     "output_type": "stream",
     "text": [
      "3\n"
     ]
    }
   ],
   "source": [
    "print(FS>PS)"
   ]
  },
  {
   "cell_type": "code",
   "execution_count": 14,
   "id": "a6ab4d11",
   "metadata": {},
   "outputs": [
    {
     "name": "stdout",
     "output_type": "stream",
     "text": [
      "[2, 3, 5, 7, 11, 13, 17, 19, 23, 29, 31]\n"
     ]
    }
   ],
   "source": [
    "PS(11)"
   ]
  },
  {
   "cell_type": "code",
   "execution_count": 15,
   "id": "d5be3c3d",
   "metadata": {},
   "outputs": [
    {
     "ename": "ValueError",
     "evalue": "Two arrays are not equal in length!",
     "output_type": "error",
     "traceback": [
      "\u001b[1;31m---------------------------------------------------------------------------\u001b[0m",
      "\u001b[1;31mValueError\u001b[0m                                Traceback (most recent call last)",
      "Input \u001b[1;32mIn [15]\u001b[0m, in \u001b[0;36m<cell line: 1>\u001b[1;34m()\u001b[0m\n\u001b[1;32m----> 1\u001b[0m \u001b[38;5;28mprint\u001b[39m(\u001b[43mFS\u001b[49m\u001b[38;5;241;43m>\u001b[39;49m\u001b[43mPS\u001b[49m)\n",
      "Input \u001b[1;32mIn [2]\u001b[0m, in \u001b[0;36mSequence.__gt__\u001b[1;34m(self, other)\u001b[0m\n\u001b[0;32m     11\u001b[0m \u001b[38;5;28;01mdef\u001b[39;00m \u001b[38;5;21m__gt__\u001b[39m(\u001b[38;5;28mself\u001b[39m,other):\n\u001b[0;32m     12\u001b[0m     \u001b[38;5;28;01mif\u001b[39;00m \u001b[38;5;28mlen\u001b[39m(\u001b[38;5;28mself\u001b[39m\u001b[38;5;241m.\u001b[39marray)\u001b[38;5;241m!=\u001b[39m\u001b[38;5;28mlen\u001b[39m(other\u001b[38;5;241m.\u001b[39marray):\n\u001b[1;32m---> 13\u001b[0m         \u001b[38;5;28;01mraise\u001b[39;00m \u001b[38;5;167;01mValueError\u001b[39;00m(\u001b[38;5;124m\"\u001b[39m\u001b[38;5;124mTwo arrays are not equal in length!\u001b[39m\u001b[38;5;124m\"\u001b[39m)\n\u001b[0;32m     14\u001b[0m     \u001b[38;5;28;01melse\u001b[39;00m:\n\u001b[0;32m     15\u001b[0m         count \u001b[38;5;241m=\u001b[39m \u001b[38;5;241m0\u001b[39m\n",
      "\u001b[1;31mValueError\u001b[0m: Two arrays are not equal in length!"
     ]
    }
   ],
   "source": [
    "print(FS>PS)"
   ]
  },
  {
   "cell_type": "code",
   "execution_count": null,
   "id": "3d365264",
   "metadata": {},
   "outputs": [],
   "source": []
  }
 ],
 "metadata": {
  "kernelspec": {
   "display_name": "Python 3 (ipykernel)",
   "language": "python",
   "name": "python3"
  },
  "language_info": {
   "codemirror_mode": {
    "name": "ipython",
    "version": 3
   },
   "file_extension": ".py",
   "mimetype": "text/x-python",
   "name": "python",
   "nbconvert_exporter": "python",
   "pygments_lexer": "ipython3",
   "version": "3.8.13"
  }
 },
 "nbformat": 4,
 "nbformat_minor": 5
}
