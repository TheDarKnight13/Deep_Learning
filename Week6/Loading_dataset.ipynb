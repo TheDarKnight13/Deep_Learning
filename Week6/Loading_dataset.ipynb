{
 "cells": [
  {
   "cell_type": "code",
   "execution_count": 1,
   "id": "418ec15b",
   "metadata": {},
   "outputs": [],
   "source": [
    "#Referred to the COCO API Github repo\n",
    "#importing the libraries\n",
    "from pycocotools.coco import COCO\n",
    "import os\n",
    "import time\n",
    "import random\n",
    "import requests \n",
    "import matplotlib.pyplot as plt\n",
    "import numpy as np\n",
    "import skimage.io as io\n",
    "from PIL import Image\n",
    "import cv2\n",
    "import json"
   ]
  },
  {
   "cell_type": "code",
   "execution_count": 2,
   "id": "85c02ace",
   "metadata": {},
   "outputs": [],
   "source": [
    "#Function to download the dataset\n",
    "def download_dataset(class_list,coco,dtype):\n",
    "    catIds = coco.getCatIds(class_list) #Gets the ids for the pizza, bus and cat classes\n",
    "    categories = coco.loadCats(catIds) #Gets the id,category,supercategory name for the id\n",
    "    categories.sort(key = lambda x:x['id']) #sorts the hashmap in the order of ids\n",
    "    \n",
    "    coco_labels_inverse = {} #Stores a hashmap where the key is the category id and the value is the index of the category in the class_list\n",
    "    for idx, in_class in enumerate(class_list):\n",
    "        for c in categories:\n",
    "            if c['name'] == in_class:\n",
    "                coco_labels_inverse[c['id']] = idx\n",
    "                \n",
    "    set_all = set() \n",
    "    for catId in catIds:\n",
    "        category = class_list[coco_labels_inverse[catId]]\n",
    "        imgId = coco.getImgIds(catIds=catId ) #Getting all the ids of the images of the category\n",
    "        set_all = set_all.union(set(imgId))        \n",
    "    \n",
    "    imgIds = list(set_all) #contains all the image ids of images containing an object in class_list\n",
    "    print(\"The total number of images is \"+str(len(imgIds)))\n",
    "    \n",
    "    total_images = 0\n",
    "    dictionary = {} #stores the annotations \n",
    "    for i in range(len(imgIds)):        \n",
    "        img_url = coco.loadImgs(imgIds[i])[0] #url of the image\n",
    "        img = io.imread(img_url['coco_url'])   #The actual image\n",
    "        im = Image.fromarray(img) #Converting it to PIL object               \n",
    "        im1 = im.resize((256,256))  #Resizing it\n",
    "            \n",
    "        annIds = coco.getAnnIds(img_url['id'],iscrowd=False) #Gets the annotation ids\n",
    "        anns = coco.loadAnns(annIds) #gets the actual annotations  \n",
    "        array_info = []\n",
    "        for k in range(len(anns)):         \n",
    "            if(anns[k][\"area\"]>4096 and anns[k][\"category_id\"] in catIds): #Checking if area of the bounding box > 4096                \n",
    "                #Resizing the bounding box coordintaes\n",
    "                [x1,y1,w1,h1] = anns[k][\"bbox\"]\n",
    "                x  = x1*256.0/im.size[0]\n",
    "                w  = w1*256.0/im.size[0]\n",
    "                y  = y1*256.0/im.size[1]\n",
    "                h  = h1*256.0/im.size[1] \n",
    "                cl = class_list[coco_labels_inverse[anns[k][\"category_id\"]]] \n",
    "                array_info.append([[x,y,w,h],cl])                                \n",
    "            else:\n",
    "                continue\n",
    "                \n",
    "        if total_images==0 and len(array_info)>0: #Creating the directories\n",
    "            dataset = os.path.join(\"Dataset\",dtype) \n",
    "            os.makedirs(dataset)\n",
    "        \n",
    "        if len(array_info)>0: #If the image contains atleast one object of area 4096 belonging to one of the 3 categories, its saved\n",
    "            im1.save(os.path.join(dataset,str(total_images)+\".jpeg\")) #Saving the image\n",
    "            dictionary[os.path.join(dataset,str(total_images)+\".jpeg\")] = array_info #Saving bounding box coordinates and class\n",
    "            total_images = total_images+1\n",
    "\n",
    "    print(\"The total number of images with a dominant object is \"+str(total_images))\n",
    "    return dictionary"
   ]
  },
  {
   "cell_type": "code",
   "execution_count": 3,
   "id": "23ce6ae1",
   "metadata": {},
   "outputs": [
    {
     "name": "stdout",
     "output_type": "stream",
     "text": [
      "loading annotations into memory...\n",
      "Done (t=11.12s)\n",
      "creating index...\n",
      "index created!\n",
      "loading annotations into memory...\n",
      "Done (t=5.64s)\n",
      "creating index...\n",
      "index created!\n"
     ]
    }
   ],
   "source": [
    "coco1=COCO(\"instances_train2014.json\")\n",
    "coco2=COCO(\"instances_val2014.json\")\n",
    "class_list = [\"pizza\",\"bus\",\"cat\"]"
   ]
  },
  {
   "cell_type": "code",
   "execution_count": 4,
   "id": "9b326ab2",
   "metadata": {},
   "outputs": [
    {
     "name": "stdout",
     "output_type": "stream",
     "text": [
      "The total number of images is 7799\n",
      "The total number of images with a dominant object is 6883\n"
     ]
    }
   ],
   "source": [
    "#For the training dataset\n",
    "train_dict = download_dataset(class_list,coco1,\"train\")\n",
    "json1 = json.dumps(train_dict) #Creating a JSON object\n",
    "f = open(\"dict_train.json\",\"w\") #opening file for writing\n",
    "f.write(json1) #writing \n",
    "f.close() #closing"
   ]
  },
  {
   "cell_type": "code",
   "execution_count": 5,
   "id": "643dc74a",
   "metadata": {},
   "outputs": [
    {
     "name": "stdout",
     "output_type": "stream",
     "text": [
      "The total number of images is 3940\n",
      "The total number of images with a dominant object is 3491\n"
     ]
    }
   ],
   "source": [
    "#For the validation dataset\n",
    "test_dict = download_dataset(class_list,coco2,\"test\")\n",
    "json2 = json.dumps(test_dict) #Creating a JSON object\n",
    "f = open(\"dict_test.json\",\"w\") #opening file for writing\n",
    "f.write(json2) #writing \n",
    "f.close() #closing"
   ]
  },
  {
   "cell_type": "code",
   "execution_count": 26,
   "id": "fbbefa82",
   "metadata": {},
   "outputs": [
    {
     "data": {
      "text/plain": [
       "{0: 0,\n",
       " 1: 5578,\n",
       " 2: 953,\n",
       " 3: 237,\n",
       " 4: 80,\n",
       " 5: 18,\n",
       " 6: 6,\n",
       " 7: 5,\n",
       " 8: 4,\n",
       " 9: 0,\n",
       " 10: 0,\n",
       " 11: 0,\n",
       " 12: 0,\n",
       " 13: 1,\n",
       " 14: 1}"
      ]
     },
     "execution_count": 26,
     "metadata": {},
     "output_type": "execute_result"
    }
   ],
   "source": [
    "#Number of training images having \"n\" annotations\n",
    "a = {}\n",
    "for i in range(15):\n",
    "    a[i] = 0\n",
    "for loc in train_dict:\n",
    "    a[len(train_dict[loc])] +=1\n",
    "a"
   ]
  },
  {
   "cell_type": "code",
   "execution_count": 28,
   "id": "63e2217c",
   "metadata": {},
   "outputs": [
    {
     "data": {
      "text/plain": [
       "{0: 0,\n",
       " 1: 2889,\n",
       " 2: 435,\n",
       " 3: 104,\n",
       " 4: 42,\n",
       " 5: 7,\n",
       " 6: 6,\n",
       " 7: 2,\n",
       " 8: 2,\n",
       " 9: 3,\n",
       " 10: 0,\n",
       " 11: 0,\n",
       " 12: 0,\n",
       " 13: 1}"
      ]
     },
     "execution_count": 28,
     "metadata": {},
     "output_type": "execute_result"
    }
   ],
   "source": [
    "#Number of testing images having \"n\" annotations\n",
    "b = {}\n",
    "for i in range(14):\n",
    "    b[i] = 0\n",
    "for loc in test_dict:\n",
    "    b[len(test_dict[loc])] +=1\n",
    "b"
   ]
  },
  {
   "cell_type": "code",
   "execution_count": null,
   "id": "433e5754",
   "metadata": {},
   "outputs": [],
   "source": []
  }
 ],
 "metadata": {
  "kernelspec": {
   "display_name": "Python 3 (ipykernel)",
   "language": "python",
   "name": "python3"
  },
  "language_info": {
   "codemirror_mode": {
    "name": "ipython",
    "version": 3
   },
   "file_extension": ".py",
   "mimetype": "text/x-python",
   "name": "python",
   "nbconvert_exporter": "python",
   "pygments_lexer": "ipython3",
   "version": "3.8.13"
  }
 },
 "nbformat": 4,
 "nbformat_minor": 5
}
