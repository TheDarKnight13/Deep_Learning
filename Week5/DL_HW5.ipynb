{
 "cells": [
  {
   "cell_type": "code",
   "execution_count": 1,
   "metadata": {
    "id": "OfNAPeqy_6Vm"
   },
   "outputs": [],
   "source": [
    "#importing the libraries\n",
    "import torch \n",
    "import torch.nn as nn\n",
    "from torchvision import datasets,models,transforms,ops\n",
    "from PIL import Image\n",
    "from torch.utils.data import Dataset,DataLoader\n",
    "import os\n",
    "import time\n",
    "from tqdm import tqdm\n",
    "import json\n",
    "import matplotlib.pyplot as plt\n",
    "import numpy as np\n",
    "import cv2\n",
    "import pandas as pd\n",
    "import seaborn as sn"
   ]
  },
  {
   "cell_type": "code",
   "execution_count": 2,
   "metadata": {
    "id": "khxyWUU3DMJN"
   },
   "outputs": [],
   "source": [
    "class IndexedDataset(Dataset):\n",
    "\n",
    "    def __init__(self, dir_path):\n",
    "        self.dir_path = dir_path\n",
    "        \n",
    "        if os.path.basename(self.dir_path) == 'train': #transforms for the train dataset\n",
    "          self.transform = transforms.Compose([\n",
    "            transforms.ToTensor(),\n",
    "            transforms.Normalize([0.5,0.5,0.5],[0.5,0.5,0.5])\n",
    "          ])\n",
    "          f = open('/content/drive/MyDrive/Dataset_HW5/dict_train.json')\n",
    "          self.bbox_data = json.load(f)\n",
    "          f.close()\n",
    "          self.loc = \"Dataset\\\\train\\\\\"\n",
    "\n",
    "        elif os.path.basename(self.dir_path) == 'test': #transforms for the test dataset\n",
    "          self.transform = transforms.Compose([\n",
    "            transforms.ToTensor(),\n",
    "            transforms.Normalize([0.5,0.5,0.5],[0.5,0.5,0.5])\n",
    "          ])\n",
    "          f = open('/content/drive/MyDrive/Dataset_HW5/dict_test.json')\n",
    "          self.bbox_data = json.load(f)\n",
    "          f.close()\n",
    "          self.loc = \"Dataset\\\\test\\\\\"\n",
    "        \n",
    "        image_filenames = []\n",
    "        for (dirpath, dirnames, filenames) in os.walk(dir_path): #Saving all the image locations\n",
    "            image_filenames += [os.path.join(dirpath, file) for file in filenames]\n",
    "        self.image_filenames = image_filenames    \n",
    "        self.labels_map = {\"bus\" : 0, \"cat\": 1, \"pizza\" : 2} #Creating hashmap of the class and a number\n",
    "\n",
    "    def __len__(self):\n",
    "        return len(self.image_filenames)\n",
    "\n",
    "    def __getitem__(self, idx):\n",
    "        img_name = self.image_filenames[idx]\n",
    "        image = Image.open(img_name).convert('RGB')\n",
    "        image = self.transform(image)\n",
    "        bbox_loc  = self.loc +os.path.basename(os.path.dirname(img_name)) + \"\\\\\" + os.path.basename(img_name)\n",
    "        bbox = torch.Tensor(self.bbox_data[bbox_loc])/256.0\n",
    "        bbox[2] = bbox[0]+bbox[2]\n",
    "        bbox[3] = bbox[1]+bbox[3]  \n",
    "        return image, self.labels_map[os.path.basename(os.path.dirname(img_name))], bbox\n"
   ]
  },
  {
   "cell_type": "code",
   "execution_count": 3,
   "metadata": {
    "id": "3We30uTLSR7I"
   },
   "outputs": [],
   "source": [
    "#Function to plot the image with its ground truth bounding box\n",
    "def plot_image(dataset,index):\n",
    "  img = dataset[index][0] #Getting the image\n",
    "  [x1,y1,x2,y2] = dataset[index][2]*256.0 #Getting the bounding box coordinates\n",
    "  i = np.transpose(np.asarray(img*127.5 + 127.5).astype(int),(1,2,0)) #converting the image from tensor to numpy\n",
    "  ci = np.ascontiguousarray(i, dtype=np.uint8) #Making the array contiguous \n",
    "  ri = cv2.rectangle(ci,(int(x1),int(y1)),(int(x2),int(y2)),(36,255,12),2) #drawing the bounding box\n",
    "  plt.imshow(ri)  #plotting the image with the bounding box\n",
    "  print(dataset[index][1])"
   ]
  },
  {
   "cell_type": "code",
   "execution_count": 4,
   "metadata": {
    "id": "-GD9bs4pgYcQ"
   },
   "outputs": [],
   "source": [
    "#Function to train the model\n",
    "#Inspired from the HW4 Question\n",
    "def training(epochs,optimizer,criterion1,criterion2,net,train_data_loader,device):\n",
    "  rtrain_losses = []\n",
    "  ctrain_losses = []\n",
    "  for epoch in range(epochs):\n",
    "    running_lossc = 0.0\n",
    "    running_lossr = 0.0\n",
    "    for i, data in enumerate(train_data_loader):\n",
    "      inputs, labels,bbox = data\n",
    "      inputs = inputs.to(device)\n",
    "      labels = labels.to(device)\n",
    "      bbox = bbox.to(device)\n",
    "      optimizer.zero_grad()\n",
    "      outputs1,outputs2 = net(inputs)\n",
    "      loss1 = criterion1(outputs1, labels)\n",
    "      loss2 = criterion2(outputs2, bbox)\n",
    "      loss1.backward(retain_graph=True)\n",
    "      loss2.backward()\n",
    "      optimizer.step()\n",
    "      running_lossc += loss1.cpu().item()\n",
    "      running_lossr += loss2.cpu().item()\n",
    "      if (i + 1) % 100 == 0:\n",
    "        print(\"[epoch: %d, batch: %5d] loss: %.3f\" % (epoch + 1, i + 1, (running_lossc+running_lossr)/(i+1)))\n",
    "    ctrain_losses.append(running_lossc/len(train_data_loader.dataset))\n",
    "    rtrain_losses.append(running_lossr/len(train_data_loader.dataset))\n",
    "  return net, ctrain_losses, rtrain_losses"
   ]
  },
  {
   "cell_type": "code",
   "execution_count": 5,
   "metadata": {
    "id": "v0zQUoqTgZZh"
   },
   "outputs": [],
   "source": [
    "#Function to compute the confusion matrix and the mean IOU \n",
    "def confusion_matrix(model,test_data_loader):\n",
    "  matrix = torch.zeros((3,3))\n",
    "  total_iou = 0.0\n",
    "  with torch.no_grad():\n",
    "    for b, (X_test, y_test,bbox_test) in enumerate(test_data_loader):\n",
    "      model.eval()                \n",
    "      X_test, y_test, bbox_test = X_test.to(device), y_test.to(device), bbox_test.to(device)               \n",
    "      # Apply the model                \n",
    "      y_val,bbox_val = model(X_test) \n",
    "      batch_iou = ops.box_iou(bbox_val,bbox_test)\n",
    "      total_iou += batch_iou.trace()          \n",
    "               \n",
    "      # Tally the number of correct predictions\n",
    "      predicted = torch.max(y_val.data, 1)[1] \n",
    "      for i in range(len(predicted)):\n",
    "        matrix[predicted[i].cpu(),y_test[i].cpu()] += 1\n",
    "\n",
    "  mean_iou = total_iou/len(test_data_loader.dataset)\n",
    "  heat = pd.DataFrame(matrix, index = [i for i in [\"bus\",\"cat\",\"pizza\"]],\n",
    "                  columns = [i for i in [\"bus\",\"cat\",\"pizza\"]])\n",
    "  heat = heat.astype(int)\n",
    "  accuracy = (matrix.trace()/matrix.sum())*100\n",
    "  plt.figure(figsize = (10,7))\n",
    "  plt.title(\"Total accuracy is \"+str(accuracy.item()))\n",
    "  \n",
    "  s = sn.heatmap(heat, annot=True,cmap='Blues',fmt='g')\n",
    "  s.set(xlabel='Ground label', ylabel='Predicted label')\n",
    "  print(\"The IOU mean is \" + str(mean_iou.item()))\n",
    "  \n",
    "                \n"
   ]
  },
  {
   "cell_type": "code",
   "execution_count": 6,
   "metadata": {
    "id": "VxhtHT8H024W"
   },
   "outputs": [],
   "source": [
    "#ResBlock architecture \n",
    "class ResnetBlock(nn.Module):\n",
    "  def __init__(self,input_nc,output_nc,stride):\n",
    "    super().__init__()\n",
    "    self.conv1  = nn.Conv2d(input_nc,output_nc,kernel_size=3,stride=stride,padding=1)\n",
    "    self.bn1 = nn.BatchNorm2d(output_nc)\n",
    "    self.relu1  = nn.ReLU(True)\n",
    "    self.conv2  = nn.Conv2d(output_nc,output_nc,kernel_size=3,stride=1,padding=1)\n",
    "    self.bn2 = nn.BatchNorm2d(output_nc)\n",
    "    self.conv3  = nn.Conv2d(input_nc,output_nc,kernel_size=3,stride=stride,padding=1)\n",
    "    self.bn3 = nn.BatchNorm2d(output_nc)\n",
    "    self.relu3  = nn.ReLU(True)\n",
    "    self.down = True if (stride!=1 or input_nc!=output_nc) else False\n",
    "\n",
    "  def forward(self,x):\n",
    "    identity = x\n",
    "    x = self.conv1(x)\n",
    "    x = self.bn1(x)\n",
    "    x = self.relu1(x)\n",
    "\n",
    "    x = self.conv2(x)\n",
    "    x = self.bn2(x)\n",
    "    \n",
    "    if self.down: #if the output has different size or number of channels\n",
    "      identity = self.conv3(identity)\n",
    "      identity = self.bn3(identity)\n",
    "\n",
    "    x = x+identity #skip\n",
    "    x = self.relu3(x)\n",
    "\n",
    "    return x\n",
    "\n"
   ]
  },
  {
   "cell_type": "code",
   "execution_count": 7,
   "metadata": {
    "id": "5uySjURVxvjy"
   },
   "outputs": [],
   "source": [
    "#Model architecture containing resblocks\n",
    "#Inspired by ResNet18\n",
    "class HW5Net(nn.Module):\n",
    "  def __init__(self):\n",
    "    super().__init__()\n",
    "    #Common layers\n",
    "    self.conv1 = nn.Conv2d(3,64,kernel_size=7,stride=2,padding=3)\n",
    "    self.bn1  = nn.BatchNorm2d(64)\n",
    "    self.relu = nn.ReLU(True)\n",
    "    self.maxpool = nn.MaxPool2d(kernel_size=3,stride=2,padding=1,dilation=1)\n",
    "    #Layers for classification\n",
    "    self.block1 = ResnetBlock(64,64,1)\n",
    "    self.block2 = ResnetBlock(64,64,1)\n",
    "    self.block3 = ResnetBlock(64,128,2)\n",
    "    self.block4 = ResnetBlock(128,128,1)\n",
    "    self.block5 = ResnetBlock(128,256,2)\n",
    "    self.block6 = ResnetBlock(256,256,1)\n",
    "    self.block7 = ResnetBlock(256,512,2)\n",
    "    self.block8 = ResnetBlock(512,512,1)\n",
    "    self.avgpool = nn.AdaptiveAvgPool2d((1,1))\n",
    "    self.fc = nn.Linear(512,3)\n",
    "    #Layers for regression\n",
    "    self.convr1  = nn.Conv2d(64,64,kernel_size=3,padding=1)\n",
    "    self.convr2  = nn.Conv2d(64,64,kernel_size=3,padding=1)\n",
    "    self.convr3  = nn.Conv2d(64,64,kernel_size=3,padding=1)\n",
    "    self.convr4  = nn.Conv2d(64,64,kernel_size=3,padding=1)\n",
    "    self.convr5  = nn.Conv2d(64,64,kernel_size=3,padding=1)\n",
    "    self.fr1 = nn.Linear(262144,1024)\n",
    "    self.fr2 = nn.Linear(1024,4)\n",
    "    self.sig = nn.Sigmoid()\n",
    "\n",
    "  def forward(self,x):\n",
    "    x = self.conv1(x)\n",
    "    x = self.bn1(x)\n",
    "    x = self.relu(x)\n",
    "    x = self.maxpool(x)\n",
    "    #For classification\n",
    "    xc = self.block1(x)\n",
    "    xc = self.block2(xc)\n",
    "    xc = self.block3(xc)\n",
    "    xc = self.block4(xc)\n",
    "    xc = self.block5(xc)\n",
    "    xc = self.block6(xc)\n",
    "    xc = self.block7(xc)\n",
    "    xc = self.block8(xc)\n",
    "    xc = self.avgpool(xc)\n",
    "    xc = xc.view(xc.shape[0],-1)\n",
    "    xc = self.fc(xc)   \n",
    "    #For regression\n",
    "    xr = self.relu(self.convr1(x))\n",
    "    xr = self.relu(self.convr2(xr)) \n",
    "    xr = self.relu(self.convr3(xr)) \n",
    "    xr = self.relu(self.convr4(xr)) \n",
    "    xr = self.relu(self.convr5(xr))\n",
    "    xr = xr.view(xr.shape[0],-1) \n",
    "    xr = self.relu(self.fr1(xr)) \n",
    "    xr = self.sig(self.fr2(xr))\n",
    "    return xc,xr\n",
    "\n",
    "\n",
    "\n",
    "    "
   ]
  },
  {
   "cell_type": "code",
   "execution_count": 8,
   "metadata": {
    "colab": {
     "base_uri": "https://localhost:8080/"
    },
    "id": "WEvAa0kNEr7k",
    "outputId": "aa9a8ed7-f5de-4546-f19e-13ce7f6e8af5"
   },
   "outputs": [
    {
     "data": {
      "text/plain": [
       "device(type='cuda')"
      ]
     },
     "execution_count": 8,
     "metadata": {},
     "output_type": "execute_result"
    }
   ],
   "source": [
    "device = torch.device(\"cuda\" if torch.cuda.is_available() else \"cpu\")\n",
    "device"
   ]
  },
  {
   "cell_type": "code",
   "execution_count": 9,
   "metadata": {
    "colab": {
     "base_uri": "https://localhost:8080/"
    },
    "id": "dkVou1AnCxjv",
    "outputId": "eee6bc33-012f-4dc3-9133-b58775196445"
   },
   "outputs": [
    {
     "name": "stdout",
     "output_type": "stream",
     "text": [
      "3953\n",
      "2059\n"
     ]
    },
    {
     "name": "stderr",
     "output_type": "stream",
     "text": [
      "/usr/local/lib/python3.8/dist-packages/torch/utils/data/dataloader.py:554: UserWarning: This DataLoader will create 16 worker processes in total. Our suggested max number of worker in current system is 2, which is smaller than what this DataLoader is going to create. Please be aware that excessive worker creation might get DataLoader running slow or even freeze, lower the worker number to avoid potential slowness/freeze if necessary.\n",
      "  warnings.warn(_create_warning_msg(\n"
     ]
    }
   ],
   "source": [
    "train_dataset = IndexedDataset(\"/content/drive/MyDrive/Dataset_HW5/train\")\n",
    "test_dataset = IndexedDataset(\"/content/drive/MyDrive/Dataset_HW5/test\")\n",
    "train_dataloader = DataLoader(train_dataset,batch_size=16,shuffle=True,num_workers=16)\n",
    "test_dataloader = DataLoader(test_dataset,batch_size=16,shuffle=True,num_workers=16)\n",
    "print(len(train_dataset))\n",
    "print(len(test_dataset))"
   ]
  },
  {
   "cell_type": "code",
   "execution_count": 10,
   "metadata": {
    "id": "y_-izU6WAFdq"
   },
   "outputs": [],
   "source": [
    "#Function to compute complete IOU loss\n",
    "def IOUloss(a,b):\n",
    "  ans = ops.complete_box_iou(a,b)\n",
    "  return 1*a.shape[0]-ans.trace()"
   ]
  },
  {
   "cell_type": "code",
   "execution_count": 11,
   "metadata": {
    "id": "fsIIeTY2EF1b"
   },
   "outputs": [],
   "source": [
    "model1 = HW5Net()\n",
    "model1 = model1.to(device)\n",
    "optimizer1 = torch.optim.Adam(model1.parameters(), lr=0.0001, betas = (0.9,0.99))\n",
    "criterion1 = nn.CrossEntropyLoss()\n",
    "criterion2 = nn.MSELoss()\n",
    "\n",
    "model2 = HW5Net()\n",
    "model2 = model2.to(device)\n",
    "optimizer2 = torch.optim.Adam(model2.parameters(), lr=0.0001, betas = (0.9,0.99))\n",
    "criterion3 = nn.CrossEntropyLoss()\n",
    "criterion4 = IOUloss\n",
    "epochs = 20"
   ]
  },
  {
   "cell_type": "code",
   "execution_count": 12,
   "metadata": {
    "colab": {
     "base_uri": "https://localhost:8080/"
    },
    "id": "SP2CMs0jSBm7",
    "outputId": "7488b2a8-2c87-492c-c07a-d99338275b4e"
   },
   "outputs": [
    {
     "data": {
      "text/plain": [
       "116"
      ]
     },
     "execution_count": 12,
     "metadata": {},
     "output_type": "execute_result"
    }
   ],
   "source": [
    "#Number of learnable layers in the model\n",
    "len(list(model1.parameters()))"
   ]
  },
  {
   "cell_type": "code",
   "execution_count": 14,
   "metadata": {
    "colab": {
     "base_uri": "https://localhost:8080/",
     "height": 1000
    },
    "id": "5CzJ8i-qvF1e",
    "outputId": "2d42dda8-794c-4f08-da37-288d68b85df8"
   },
   "outputs": [
    {
     "name": "stdout",
     "output_type": "stream",
     "text": [
      "[epoch: 1, batch:   100] loss: 0.621\n",
      "[epoch: 1, batch:   200] loss: 0.507\n",
      "[epoch: 2, batch:   100] loss: 0.345\n",
      "[epoch: 2, batch:   200] loss: 0.327\n",
      "[epoch: 3, batch:   100] loss: 0.305\n",
      "[epoch: 3, batch:   200] loss: 0.292\n",
      "[epoch: 4, batch:   100] loss: 0.225\n",
      "[epoch: 4, batch:   200] loss: 0.249\n",
      "[epoch: 5, batch:   100] loss: 0.202\n",
      "[epoch: 5, batch:   200] loss: 0.216\n",
      "[epoch: 6, batch:   100] loss: 0.185\n",
      "[epoch: 6, batch:   200] loss: 0.178\n",
      "[epoch: 7, batch:   100] loss: 0.148\n",
      "[epoch: 7, batch:   200] loss: 0.150\n",
      "[epoch: 8, batch:   100] loss: 0.105\n",
      "[epoch: 8, batch:   200] loss: 0.130\n",
      "[epoch: 9, batch:   100] loss: 0.094\n",
      "[epoch: 9, batch:   200] loss: 0.093\n",
      "[epoch: 10, batch:   100] loss: 0.086\n",
      "[epoch: 10, batch:   200] loss: 0.097\n",
      "[epoch: 11, batch:   100] loss: 0.067\n",
      "[epoch: 11, batch:   200] loss: 0.073\n",
      "[epoch: 12, batch:   100] loss: 0.075\n",
      "[epoch: 12, batch:   200] loss: 0.058\n",
      "[epoch: 13, batch:   100] loss: 0.055\n",
      "[epoch: 13, batch:   200] loss: 0.055\n",
      "[epoch: 14, batch:   100] loss: 0.083\n",
      "[epoch: 14, batch:   200] loss: 0.061\n",
      "[epoch: 15, batch:   100] loss: 0.057\n",
      "[epoch: 15, batch:   200] loss: 0.049\n",
      "[epoch: 16, batch:   100] loss: 0.040\n",
      "[epoch: 16, batch:   200] loss: 0.040\n",
      "[epoch: 17, batch:   100] loss: 0.036\n",
      "[epoch: 17, batch:   200] loss: 0.045\n",
      "[epoch: 18, batch:   100] loss: 0.016\n",
      "[epoch: 18, batch:   200] loss: 0.025\n",
      "[epoch: 19, batch:   100] loss: 0.032\n",
      "[epoch: 19, batch:   200] loss: 0.046\n",
      "[epoch: 20, batch:   100] loss: 0.038\n",
      "[epoch: 20, batch:   200] loss: 0.032\n",
      "The IOU mean is 0.5989376902580261\n"
     ]
    },
    {
     "data": {
      "image/png": "[encoded data removed]",
      "text/plain": [
       "<Figure size 720x504 with 2 Axes>"
      ]
     },
     "metadata": {
      "needs_background": "light"
     },
     "output_type": "display_data"
    }
   ],
   "source": [
    "trained_model1,ctrain_losses1, rtrain_losses1 = training(epochs,optimizer1,criterion1,criterion2,model1,train_dataloader,device)\n",
    "confusion_matrix(trained_model1,test_dataloader) "
   ]
  },
  {
   "cell_type": "code",
   "execution_count": 13,
   "metadata": {
    "colab": {
     "base_uri": "https://localhost:8080/",
     "height": 1000
    },
    "id": "h1ZggdPFBS1B",
    "outputId": "744c1ba1-5f50-47eb-95b4-61aa2ef2fb6d"
   },
   "outputs": [
    {
     "name": "stdout",
     "output_type": "stream",
     "text": [
      "[epoch: 1, batch:   100] loss: 8.581\n",
      "[epoch: 1, batch:   200] loss: 8.048\n",
      "[epoch: 2, batch:   100] loss: 7.134\n",
      "[epoch: 2, batch:   200] loss: 7.097\n",
      "[epoch: 3, batch:   100] loss: 6.876\n",
      "[epoch: 3, batch:   200] loss: 6.811\n",
      "[epoch: 4, batch:   100] loss: 6.675\n",
      "[epoch: 4, batch:   200] loss: 6.535\n",
      "[epoch: 5, batch:   100] loss: 6.322\n",
      "[epoch: 5, batch:   200] loss: 6.270\n",
      "[epoch: 6, batch:   100] loss: 5.976\n",
      "[epoch: 6, batch:   200] loss: 5.966\n",
      "[epoch: 7, batch:   100] loss: 5.629\n",
      "[epoch: 7, batch:   200] loss: 5.586\n",
      "[epoch: 8, batch:   100] loss: 5.354\n",
      "[epoch: 8, batch:   200] loss: 5.309\n",
      "[epoch: 9, batch:   100] loss: 4.880\n",
      "[epoch: 9, batch:   200] loss: 4.906\n",
      "[epoch: 10, batch:   100] loss: 4.719\n",
      "[epoch: 10, batch:   200] loss: 4.656\n",
      "[epoch: 11, batch:   100] loss: 4.442\n",
      "[epoch: 11, batch:   200] loss: 4.391\n",
      "[epoch: 12, batch:   100] loss: 3.998\n",
      "[epoch: 12, batch:   200] loss: 4.090\n",
      "[epoch: 13, batch:   100] loss: 3.820\n",
      "[epoch: 13, batch:   200] loss: 3.810\n",
      "[epoch: 14, batch:   100] loss: 3.533\n",
      "[epoch: 14, batch:   200] loss: 3.543\n",
      "[epoch: 15, batch:   100] loss: 3.485\n",
      "[epoch: 15, batch:   200] loss: 3.387\n",
      "[epoch: 16, batch:   100] loss: 3.164\n",
      "[epoch: 16, batch:   200] loss: 3.226\n",
      "[epoch: 17, batch:   100] loss: 3.032\n",
      "[epoch: 17, batch:   200] loss: 3.079\n",
      "[epoch: 18, batch:   100] loss: 3.000\n",
      "[epoch: 18, batch:   200] loss: 2.933\n",
      "[epoch: 19, batch:   100] loss: 2.678\n",
      "[epoch: 19, batch:   200] loss: 2.696\n",
      "[epoch: 20, batch:   100] loss: 2.638\n",
      "[epoch: 20, batch:   200] loss: 2.634\n",
      "The IOU mean is 0.615219235420227\n"
     ]
    },
    {
     "data": {
      "image/png": "[encoded data removed]",
      "text/plain": [
       "<Figure size 720x504 with 2 Axes>"
      ]
     },
     "metadata": {
      "needs_background": "light"
     },
     "output_type": "display_data"
    }
   ],
   "source": [
    "trained_model2,ctrain_losses2, rtrain_losses2 = training(epochs,optimizer2,criterion3,IOUloss,model2,train_dataloader,device)\n",
    "confusion_matrix(trained_model2,test_dataloader) "
   ]
  },
  {
   "cell_type": "code",
   "execution_count": 16,
   "metadata": {
    "id": "0YN4HAMORVZW"
   },
   "outputs": [],
   "source": [
    "torch.save(trained_model1.state_dict(), \"MSE.pt\")\n",
    "torch.save(trained_model2.state_dict(), \"IOU.pt\")"
   ]
  }
 ],
 "metadata": {
  "accelerator": "GPU",
  "colab": {
   "provenance": []
  },
  "gpuClass": "standard",
  "kernelspec": {
   "display_name": "Python 3 (ipykernel)",
   "language": "python",
   "name": "python3"
  },
  "language_info": {
   "codemirror_mode": {
    "name": "ipython",
    "version": 3
   },
   "file_extension": ".py",
   "mimetype": "text/x-python",
   "name": "python",
   "nbconvert_exporter": "python",
   "pygments_lexer": "ipython3",
   "version": "3.8.13"
  }
 },
 "nbformat": 4,
 "nbformat_minor": 1
}
