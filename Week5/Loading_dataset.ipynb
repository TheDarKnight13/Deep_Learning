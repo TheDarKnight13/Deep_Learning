{
 "cells": [
  {
   "cell_type": "code",
   "execution_count": 1,
   "id": "418ec15b",
   "metadata": {},
   "outputs": [],
   "source": [
    "#Referred to the COCO API Github repo\n",
    "#importing the libraries\n",
    "from pycocotools.coco import COCO\n",
    "import os\n",
    "import time\n",
    "import random\n",
    "import requests \n",
    "import matplotlib.pyplot as plt\n",
    "import numpy as np\n",
    "import skimage.io as io\n",
    "from PIL import Image\n",
    "import cv2\n",
    "import json"
   ]
  },
  {
   "cell_type": "code",
   "execution_count": 2,
   "id": "85c02ace",
   "metadata": {},
   "outputs": [],
   "source": [
    "#Function to download the dataset\n",
    "def download_dataset(class_list,coco,dtype):\n",
    "    catIds = coco.getCatIds(class_list) #Gets the ids for the pizza, bus and cat classes\n",
    "    categories = coco.loadCats(catIds) #Gets the id,category,supercategory name for the id\n",
    "    categories.sort(key = lambda x:x['id']) #sorts the hashmap in the order of ids\n",
    "    \n",
    "    coco_labels_inverse = {} #Stores a hashmap where the key is the category id and the value is the index of the category in the class_list\n",
    "    for idx, in_class in enumerate(class_list):\n",
    "        for c in categories:\n",
    "            if c['name'] == in_class:\n",
    "                coco_labels_inverse[c['id']] = idx\n",
    "                \n",
    "    dictionary = {} #stores the annotations  \n",
    "    for catId in catIds:\n",
    "        category = class_list[coco_labels_inverse[catId]]\n",
    "        print(category)   #Prints the category    \n",
    "        imgIds = coco.getImgIds(catIds=catId ) #Getting all the ids of the images of the category\n",
    "        total_images=0\n",
    "        print(\"The total number of images is \"+str(len(imgIds)))\n",
    "        for i in range(len(imgIds)):        \n",
    "            img_url = coco.loadImgs(imgIds[i])[0] #url of the image\n",
    "            img = io.imread(img_url['coco_url'])   #The actual image\n",
    "            im = Image.fromarray(img) #Converting it to PIL object               \n",
    "            im1 = im.resize((256,256))  #Resizing it\n",
    "            \n",
    "            annIds = coco.getAnnIds(img_url['id'],catIds=catId,iscrowd=False) #Gets the annotation ids\n",
    "            anns = coco.loadAnns(annIds) #gets the actual annotations\n",
    "                        \n",
    "            for k in range(len(anns)):\n",
    "                if(anns[k][\"area\"]>40000 and anns[k][\"category_id\"]==catId): #Checking if the area of the bounding box is greater than 40,000\n",
    "                    #Resizing the bounding box coordintaes\n",
    "                    [x1,y1,w1,h1] = anns[k][\"bbox\"]\n",
    "                    x  = x1*256.0/im.size[0]\n",
    "                    w  = w1*256.0/im.size[0]\n",
    "                    y  = y1*256.0/im.size[1]\n",
    "                    h  = h1*256.0/im.size[1]                 \n",
    "                                \n",
    "                    if total_images==0: #Creating the directories\n",
    "                        dataset = os.path.join(\"Dataset\",dtype,category) \n",
    "                        os.makedirs(dataset)               \n",
    "                    im1.save(os.path.join(dataset,str(total_images)+\".jpeg\")) #Saving the image\n",
    "                    dictionary[os.path.join(dataset,str(total_images)+\".jpeg\")] = [x,y,w,h] #Saving its annotations\n",
    "                    \n",
    "                    total_images = total_images+1\n",
    "                    break\n",
    "                    \n",
    "                else:\n",
    "                    continue\n",
    "        print(\"The total number of images with a dominant object is \"+str(total_images))\n",
    "    return dictionary"
   ]
  },
  {
   "cell_type": "code",
   "execution_count": 3,
   "id": "23ce6ae1",
   "metadata": {},
   "outputs": [
    {
     "name": "stdout",
     "output_type": "stream",
     "text": [
      "loading annotations into memory...\n",
      "Done (t=27.74s)\n",
      "creating index...\n",
      "index created!\n",
      "loading annotations into memory...\n",
      "Done (t=14.28s)\n",
      "creating index...\n",
      "index created!\n"
     ]
    }
   ],
   "source": [
    "coco1=COCO(\"instances_train2014.json\")\n",
    "coco2=COCO(\"instances_val2014.json\")\n",
    "class_list = [\"pizza\",\"bus\",\"cat\"]"
   ]
  },
  {
   "cell_type": "code",
   "execution_count": 4,
   "id": "9b326ab2",
   "metadata": {},
   "outputs": [
    {
     "name": "stdout",
     "output_type": "stream",
     "text": [
      "bus\n",
      "The total number of images is 2791\n",
      "The total number of images with a dominant object is 1436\n",
      "cat\n",
      "The total number of images is 2818\n",
      "The total number of images with a dominant object is 1277\n",
      "pizza\n",
      "The total number of images is 2202\n",
      "The total number of images with a dominant object is 1240\n"
     ]
    }
   ],
   "source": [
    "#For the training dataset\n",
    "train_dict = download_dataset(class_list,coco1,\"train\")\n",
    "json1 = json.dumps(train_dict) #Creating a JSON object\n",
    "f = open(\"dict_train.json\",\"w\") #opening file for writing\n",
    "f.write(json1) #writing \n",
    "f.close() #closing"
   ]
  },
  {
   "cell_type": "code",
   "execution_count": 5,
   "id": "643dc74a",
   "metadata": {},
   "outputs": [
    {
     "name": "stdout",
     "output_type": "stream",
     "text": [
      "bus\n",
      "The total number of images is 1350\n",
      "The total number of images with a dominant object is 699\n",
      "cat\n",
      "The total number of images is 1480\n",
      "The total number of images with a dominant object is 727\n",
      "pizza\n",
      "The total number of images is 1117\n",
      "The total number of images with a dominant object is 633\n"
     ]
    }
   ],
   "source": [
    "#For the validation dataset\n",
    "test_dict = download_dataset(class_list,coco2,\"test\")\n",
    "json2 = json.dumps(test_dict) #Creating a JSON object\n",
    "f = open(\"dict_test.json\",\"w\") #opening file for writing\n",
    "f.write(json2) #writing \n",
    "f.close() #closing"
   ]
  },
  {
   "cell_type": "code",
   "execution_count": 6,
   "id": "fbbefa82",
   "metadata": {},
   "outputs": [
    {
     "data": {
      "text/plain": [
       "3953"
      ]
     },
     "execution_count": 6,
     "metadata": {},
     "output_type": "execute_result"
    }
   ],
   "source": [
    "#Number of images in the training dataset\n",
    "len(train_dict)"
   ]
  },
  {
   "cell_type": "code",
   "execution_count": 7,
   "id": "63e2217c",
   "metadata": {},
   "outputs": [
    {
     "data": {
      "text/plain": [
       "2059"
      ]
     },
     "execution_count": 7,
     "metadata": {},
     "output_type": "execute_result"
    }
   ],
   "source": [
    "#Number of images in the validation dataset\n",
    "len(test_dict)"
   ]
  }
 ],
 "metadata": {
  "kernelspec": {
   "display_name": "Python 3 (ipykernel)",
   "language": "python",
   "name": "python3"
  },
  "language_info": {
   "codemirror_mode": {
    "name": "ipython",
    "version": 3
   },
   "file_extension": ".py",
   "mimetype": "text/x-python",
   "name": "python",
   "nbconvert_exporter": "python",
   "pygments_lexer": "ipython3",
   "version": "3.8.13"
  }
 },
 "nbformat": 4,
 "nbformat_minor": 5
}
